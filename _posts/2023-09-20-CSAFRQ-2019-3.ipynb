---
toc: true
comments: true
layout: post
title: APCSA FRQ 2019 - 3
description: APCSA FRQ 2019 Question 3
type: plans
courses: {csa: {week: 1} }
categories: [C1.4]
---
