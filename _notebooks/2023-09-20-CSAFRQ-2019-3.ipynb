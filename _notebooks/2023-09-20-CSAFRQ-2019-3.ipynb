{
 "cells": [
  {
   "cell_type": "markdown",
   "metadata": {},
   "source": [
    "---\n",
    "layout: post\n",
    "title: APCSA 2019 Question 3 \n",
    "description:\n",
    "courses: { csa: {week: 4, categories: [2.A, 2.B]} }\n",
    "categories: []\n",
    "type: ccc\n",
    "---"
   ]
  },
  {
   "cell_type": "markdown",
   "metadata": {},
   "source": [
    "# Question 3"
   ]
  },
  {
   "cell_type": "code",
   "execution_count": null,
   "metadata": {},
   "outputs": [],
   "source": [
    "public class Delimiters\n",
    "{\n",
    " /** The open and close delimiters. */\n",
    " private String openDel;\n",
    " private String closeDel;\n",
    " /** Constructs a Delimiters object where open is the open delimiter and close is the\n",
    " * close delimiter.\n",
    " * Precondition: open and close are non-empty strings.\n",
    " */\n",
    " public Delimiters(String open, String close)\n",
    " {\n",
    " openDel = open;\n",
    " closeDel = close;\n",
    " }\n",
    " /** Returns an ArrayList of delimiters from the array tokens, as described in part (a). */\n",
    " public ArrayList<String> getDelimitersList(String[] tokens)\n",
    " { /* to be implemented in part (a) */ }\n",
    " /** Returns true if the delimiters are balanced and false otherwise, as described in part (b).\n",
    " * Precondition: delimiters contains only valid open and close delimiters.\n",
    " */\n",
    " public boolean isBalanced(ArrayList<String> delimiters)\n",
    " { /* to be implemented in part (b) */ }\n",
    " // There may be instance variables, constructors, and methods that are not shown.\n",
    "}"
   ]
  },
  {
   "cell_type": "markdown",
   "metadata": {},
   "source": [
    "# Question 3.1"
   ]
  },
  {
   "cell_type": "markdown",
   "metadata": {},
   "source": [
    "A string containing text and possibly delimiters has been split into tokens and stored in\n",
    "String[] tokens. Each token is either an open delimiter, a close delimiter, or a substring that is not a\n",
    "delimiter. You will write the method getDelimitersList, which returns an ArrayList\n",
    "containing all the open and close delimiters found in tokens in their original order.\n",
    "The following examples show the contents of an ArrayList returned by getDelimitersList for\n",
    "different open and close delimiters and different tokens arrays. \n",
    "\n",
    "Complete method getDelimitersList below.\n",
    "/** Returns an ArrayList of delimiters from the array tokens, as described in part (a). */\n",
    "public ArrayList<String> getDelimitersList(String[] tokens) "
   ]
  },
  {
   "cell_type": "code",
   "execution_count": null,
   "metadata": {},
   "outputs": [],
   "source": [
    "\n",
    "ArrayList<String> delims = new ArrayList<String>(); // Creates the array string\n",
    "for(String str: tokens){ // iterates through each string in tokens\n",
    "    if(str.equals(openDel) || str.equals(closeDel)){ // If the string matches the parameters for an open delimiter or a closed delimiter then its added to the array\n",
    "    delims.add(str);\n",
    "    }\n",
    "}\n",
    "return delims; // returns the array list "
   ]
  },
  {
   "cell_type": "markdown",
   "metadata": {},
   "source": [
    "# Question 3.2"
   ]
  },
  {
   "cell_type": "markdown",
   "metadata": {},
   "source": [
    "Write the method isBalanced, which returns true when the delimiters are balanced and returns\n",
    "false otherwise. The delimiters are balanced when both of the following conditions are satisfied;\n",
    "otherwise, they are not balanced.\n",
    "1. When traversing the ArrayList from the first element to the last element, there is no point at\n",
    "which there are more close delimiters than open delimiters at or before that point.\n",
    "2. The total number of open delimiters is equal to the total number of close delimiters.\n",
    "Consider a Delimiters object for which openDel is \"<sup>\" and closeDel is \"</sup>\".\n",
    "The examples below show different ArrayList objects that could be returned by calls to\n",
    "getDelimitersList and the value that would be returned by a call to isBalanced. \n"
   ]
  },
  {
   "cell_type": "code",
   "execution_count": null,
   "metadata": {},
   "outputs": [],
   "source": [
    "int numOpenDels = 0;\n",
    "int numCloseDels = 0;\n",
    "\n",
    "for(String str: delimeters){ // runs through all the delimiters identified in the previous \n",
    "    if (str.equals(openDel)){ // if string is an open delimiter add 1 to the number of Open Delimiters identified so far\n",
    "        numOpenDels++;\n",
    "    }\n",
    "    else \n",
    "        if(str.equals(closeDel)){ // if string is an closed delimiter add 1 to the number of Closed Delimiters identified so far\n",
    "        numCloseDels ++;\n",
    "        }\n",
    "    if(numCloseDels > numOpenDels){ // if more closed delimiters are identified than open delimiters then return false\n",
    "        return false;\n",
    "    }\n",
    "        if(numCloseDels < numOpenDels){ // if more open delimiters are identified than closed delimiters then return false\n",
    "        return false;\n",
    "    }\n",
    "    else \n",
    "        if(numCloseDels = numOpenDels){ // if same # of open delimiters are identified than closed delimiters then return true\n",
    "            return true;\n",
    "        }\n",
    "}"
   ]
  },
  {
   "cell_type": "markdown",
   "metadata": {},
   "source": [
    "# Full Question 3 Combined"
   ]
  },
  {
   "cell_type": "code",
   "execution_count": null,
   "metadata": {},
   "outputs": [],
   "source": [
    "public class Delimiters {\n",
    "    private String openDel;\n",
    "    private String closeDel;\n",
    "\n",
    "    public Delimiters(String open, String close) {\n",
    "        openDel = open;\n",
    "        closeDel = close;\n",
    "    }\n",
    "\n",
    "    public ArrayList<String> getDelimitersList(String[] tokens) {\n",
    "        ArrayList<String> delims = new ArrayList<String>();\n",
    "        for (String str : tokens) {\n",
    "            if (str.equals(openDel) || str.equals(closeDel)) {\n",
    "                delims.add(str);\n",
    "            }\n",
    "        }\n",
    "        return delims;\n",
    "    }\n",
    "\n",
    "    public boolean isBalanced(ArrayList<String> delimiters) {\n",
    "        int numOpenDels = 0;\n",
    "        int numCloseDels = 0;\n",
    "\n",
    "        for (String str : delimiters) {\n",
    "            if (str.equals(openDel)) {\n",
    "                numOpenDels++;\n",
    "            }\n",
    "            if (str.equals(closeDel)) {\n",
    "                numCloseDels++;\n",
    "            }\n",
    "            if (numCloseDels > numOpenDels) {\n",
    "                return false;\n",
    "            }\n",
    "        }\n",
    "        return numOpenDels == numCloseDels;\n",
    "    }\n",
    "}\n"
   ]
  },
  {
   "cell_type": "markdown",
   "metadata": {},
   "source": [
    "# Scoring Guidelines"
   ]
  },
  {
   "cell_type": "markdown",
   "metadata": {},
   "source": [
    "**Part (a) getDelimitersList 4 points**\n",
    "\n",
    "Intent: Store delimiters from an array in an ArrayList\n",
    "\n",
    "+1 Creates ArrayList<String>\n",
    "\n",
    "+1 Accesses all elements in array tokens (no bounds errors)\n",
    "\n",
    "+1 Compares strings in tokens with both instance variables (must be in the context of a loop)\n",
    "\n",
    "+1 Adds delimiters into ArrayList in original order\n",
    "\n",
    "**Part (b) isBalanced 5 points**\n",
    "\n",
    "Intent: Determine whether open and close delimiters in an ArrayList are balanced\n",
    "\n",
    "+1 Initializes accumulator(s)\n",
    "\n",
    "+1 Accesses all elements in ArrayList delimiters (no bounds errors)\n",
    "\n",
    "+1 Compares strings in delimiters with instance variables and updates accumulator(s)\n",
    "accordingly\n",
    "\n",
    "+1 Identifies and returns appropriate boolean value to implement one rule\n",
    "\n",
    "+1 Identifies and returns appropriate boolean values for all cases"
   ]
  },
  {
   "cell_type": "markdown",
   "metadata": {},
   "source": [
    "Notes for other students:\n",
    "- "
   ]
  }
 ],
 "metadata": {
  "kernelspec": {
   "display_name": "Java",
   "language": "java",
   "name": "java"
  },
  "language_info": {
   "codemirror_mode": "java",
   "file_extension": ".jshell",
   "mimetype": "text/x-java-source",
   "name": "java",
   "pygments_lexer": "java",
   "version": "11.0.20+8-post-Ubuntu-1ubuntu120.04"
  },
  "orig_nbformat": 4
 },
 "nbformat": 4,
 "nbformat_minor": 2
}
