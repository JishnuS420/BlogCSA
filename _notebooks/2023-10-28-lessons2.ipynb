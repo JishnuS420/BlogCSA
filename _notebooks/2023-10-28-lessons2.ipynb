{
 "cells": [
  {
   "cell_type": "markdown",
   "metadata": {},
   "source": [
    "---\n",
    "toc: true\n",
    "comments: true\n",
    "layout: post\n",
    "title: 9.7 lesson\n",
    "description:  Lesson on the College Board Unit 9.7\n",
    "type: hacks\n",
    "courses: {csa: {week: 10} }\n",
    "---"
   ]
  },
  {
   "cell_type": "markdown",
   "metadata": {},
   "source": [
    "# 9.7 Object Superclass"
   ]
  },
  {
   "cell_type": "markdown",
   "metadata": {},
   "source": [
    "- The Object class is the superclass of all other classes as well as data types and is a part of the java.lang package\n",
    "\n",
    "-  If a parent class doesn't specify by using the `extends` keyword, the class will inherit from the Object \n",
    "\n",
    "- `String toString()` and `boolean equals(object other)` are the most frequently used and subclasses of Object override the equals and toString methods by using class-specific implementations"
   ]
  },
  {
   "cell_type": "markdown",
   "metadata": {},
   "source": [
    "Normally when you use the `toString` method without overriding it, it returns a hash code value as seen in the example below:"
   ]
  },
  {
   "cell_type": "code",
   "execution_count": 3,
   "metadata": {},
   "outputs": [
    {
     "name": "stdout",
     "output_type": "stream",
     "text": [
      "REPL.$JShell$15C$Person@4479c711\n"
     ]
    }
   ],
   "source": [
    "class Person {\n",
    "    private String name;\n",
    "    private int age;\n",
    "\n",
    "    public Person(String name, int age) {\n",
    "        this.name = name;\n",
    "        this.age = age;\n",
    "    }\n",
    "}\n",
    "\n",
    "public class ToStringNoOverride {\n",
    "    public static void main(String[] args) {\n",
    "        Person person = new Person(\"Alice\", 25);\n",
    "        // When you print this out, it will return the hash code since its using the default method for toString\n",
    "        System.out.println(person);\n",
    "    }\n",
    "}\n",
    "ToStringNoOverride.main(null)"
   ]
  },
  {
   "cell_type": "markdown",
   "metadata": {},
   "source": [
    "However, we can fix this by creating a new method by **overriding** the normal `toString` method and building our own representation of the object"
   ]
  },
  {
   "cell_type": "code",
   "execution_count": 9,
   "metadata": {},
   "outputs": [
    {
     "name": "stdout",
     "output_type": "stream",
     "text": [
      "Person Name: Alice\n",
      "Person Age: 25\n"
     ]
    }
   ],
   "source": [
    "class Person {\n",
    "    private String name;\n",
    "    private int age;\n",
    "\n",
    "    public Person(String name, int age) {\n",
    "        this.name = name;\n",
    "        this.age = age;\n",
    "    }\n",
    "\n",
    "    @Override\n",
    "    public String toString() { // We override the toString method here\n",
    "        return \"Person Name: \" + name + \"\\nPerson Age: \" + age; // We then add our own custom string representation\n",
    "    }\n",
    "}\n",
    "\n",
    "public class ToStringOverride {\n",
    "    public static void main(String[] args) {\n",
    "        Person person = new Person(\"Alice\", 25);\n",
    "\n",
    "        // When you print the person object, it calls the overridden toString method we made\n",
    "        System.out.println(person);\n",
    "    }\n",
    "}\n",
    "ToStringOverride.main(null)"
   ]
  },
  {
   "cell_type": "markdown",
   "metadata": {},
   "source": [
    "Now, we want to compare 2 people by using `boolean equals(Object other)` and determine if they are the same"
   ]
  },
  {
   "cell_type": "code",
   "execution_count": 16,
   "metadata": {},
   "outputs": [
    {
     "name": "stdout",
     "output_type": "stream",
     "text": [
      "person1 equals person2: false\n"
     ]
    }
   ],
   "source": [
    "class Person {\n",
    "    private String name;\n",
    "    private int age;\n",
    "\n",
    "    public Person(String name, int age) {\n",
    "        this.name = name;\n",
    "        this.age = age;\n",
    "    }\n",
    "\n",
    "    @Override\n",
    "    public String toString() {\n",
    "        return \"Person Name: \" + name + \"\\nPerson Age: \" + age;\n",
    "    }\n",
    "}\n",
    "\n",
    "public class EqualsNoOverride {\n",
    "    public static void main(String[] args) {\n",
    "        Person person1 = new Person(\"Alice\", 25);\n",
    "        Person person2 = new Person(\"Alice\", 25);\n",
    "\n",
    "        System.out.println(\"Person 1 equals Person 2: \" + person1.equals(person2)); // use the equals method to compare the two people\n",
    "    }\n",
    "}\n",
    "EqualsNoOverride.main(null)"
   ]
  },
  {
   "cell_type": "markdown",
   "metadata": {},
   "source": [
    "False is returned when you use the `boolean equals(Object other)` because the parameters is of Type Object superclass is unable to detect them since the Object class saves them under two different memory addresses and to fix this, we have to make an override method for this."
   ]
  },
  {
   "cell_type": "code",
   "execution_count": 20,
   "metadata": {},
   "outputs": [
    {
     "name": "stdout",
     "output_type": "stream",
     "text": [
      "Person 1 equals Person 2 (Age Only): true\n"
     ]
    }
   ],
   "source": [
    "class Person {\n",
    "    private String name;\n",
    "    private int age;\n",
    "\n",
    "    public Person(String name, int age) {\n",
    "        this.name = name;\n",
    "        this.age = age;\n",
    "    }\n",
    "\n",
    "    @Override // We override the equals method\n",
    "    public boolean equals(Object other) {\n",
    "        if (!(other instanceof Person)) // Using instanceof, we are making sure that the we compare objects of the same class\n",
    "            return false;\n",
    "        Person that = (Person) other; // Here we perform casting to make sure that other is converted to Person\n",
    "        return this.age == that.age;\n",
    "    }\n",
    "\n",
    "    @Override\n",
    "    public String toString() {\n",
    "        return \"Person Name: \" + name + \"\\nPerson Age: \" + age;\n",
    "    }\n",
    "}\n",
    "\n",
    "public class EqualsOverride {\n",
    "    public static void main(String[] args) {\n",
    "        Person person1 = new Person(\"Alice\", 25);\n",
    "        Person person2 = new Person(\"Bryce\", 25);\n",
    "\n",
    "        System.out.println(\"Person 1 equals Person 2 (Age Only): \" + person1.equals(person2));\n",
    "    }\n",
    "}\n",
    "EqualsOverride.main(null)"
   ]
  },
  {
   "cell_type": "markdown",
   "metadata": {},
   "source": [
    ">Popcorn Hacks: Using a topic of your choice create your own override of one of the above"
   ]
  }
 ],
 "metadata": {
  "kernelspec": {
   "display_name": "Java",
   "language": "java",
   "name": "java"
  },
  "language_info": {
   "codemirror_mode": "java",
   "file_extension": ".jshell",
   "mimetype": "text/x-java-source",
   "name": "java",
   "pygments_lexer": "java",
   "version": "11.0.20+8-post-Ubuntu-1ubuntu120.04"
  }
 },
 "nbformat": 4,
 "nbformat_minor": 2
}
