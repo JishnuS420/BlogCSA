{
 "cells": [
  {
   "cell_type": "markdown",
   "metadata": {},
   "source": [
    "---\n",
    "toc: true\n",
    "comments: true\n",
    "layout: post\n",
    "title: Week 1 Hacks\n",
    "description: Things we did and learnt during week 1\n",
    "courses: {csa: {week: 1} }\n",
    "type: tangibles\n",
    "---"
   ]
  },
  {
   "cell_type": "markdown",
   "metadata": {},
   "source": [
    "# Java Hello Hacks"
   ]
  },
  {
   "cell_type": "code",
   "execution_count": 10,
   "metadata": {
    "vscode": {
     "languageId": "java"
    }
   },
   "outputs": [
    {
     "name": "stdout",
     "output_type": "stream",
     "text": [
      "Hello World!\n"
     ]
    }
   ],
   "source": [
    "// Define Static Method within a Class\n",
    "public class HelloStatic {\n",
    "    // Java standard runtime entry point\n",
    "    public static void main(String[] args) {    \n",
    "        System.out.println(\"Hello World!\");\n",
    "    }\n",
    "}\n",
    "// A method call allows us to execute code that is wrapped in Class\n",
    "HelloStatic.main(null);   // Class prefix allows reference of Static Method"
   ]
  },
  {
   "cell_type": "code",
   "execution_count": 11,
   "metadata": {
    "vscode": {
     "languageId": "java"
    }
   },
   "outputs": [
    {
     "name": "stdout",
     "output_type": "stream",
     "text": [
      "Hello, World!\n"
     ]
    }
   ],
   "source": [
    "// Define Class with Constructor returning Object\n",
    "public class HelloObject {\n",
    "    private String hello;   // instance attribute or variable\n",
    "    public HelloObject() {  // constructor\n",
    "        hello = \"Hello, World!\";\n",
    "    }\n",
    "    public String getHello() {  // getter, returns value from inside the object\n",
    "        return this.hello;  // return String from object\n",
    "    }\n",
    "    public static void main(String[] args) {    \n",
    "        HelloObject ho = new HelloObject(); // Instance of Class (ho) is an Object via \"new HelloObject()\"\n",
    "        System.out.println(ho.getHello()); // Object allows reference to public methods and data\n",
    "    }\n",
    "}\n",
    "// IJava activation\n",
    "HelloObject.main(null);"
   ]
  },
  {
   "cell_type": "code",
   "execution_count": 12,
   "metadata": {
    "vscode": {
     "languageId": "java"
    }
   },
   "outputs": [
    {
     "name": "stdout",
     "output_type": "stream",
     "text": [
      "Hello, World!\n",
      "Hello, Nighthawk Coding Society!\n"
     ]
    }
   ],
   "source": [
    "// Define Class\n",
    "public class HelloDynamic { // name the first letter of class as capitalized, note camel case\n",
    "    // instance variable have access modifier (private is most common), data type, and name\n",
    "    private String hello;\n",
    "    // constructor signature 1, public and zero arguments, constructors do not have return type\n",
    "    public HelloDynamic() {  // 0 argument constructor\n",
    "        this.setHello(\"Hello, World!\");  // using setter with static string\n",
    "    }\n",
    "    // constructor signature, public and one argument\n",
    "    public HelloDynamic(String hello) { // 1 argument constructor\n",
    "        this.setHello(hello);   // using setter with local variable passed into constructor\n",
    "    }\n",
    "    // setter/mutator, setter have void return type and a parameter\n",
    "    public void setHello(String hello) { // setter\n",
    "        this.hello = hello;     // instance variable on the left, local variable on the right\n",
    "    }\n",
    "    // getter/accessor, getter used to return private instance variable (encapsulated), return type is String\n",
    "    public String getHello() {  // getter\n",
    "        return this.hello;\n",
    "    }\n",
    "    // public static void main(String[] args) is signature for main/drivers/tester method\n",
    "    // a driver/tester method is singular or called a class method, it is never part of an object\n",
    "    public static void main(String[] args) {  \n",
    "        HelloDynamic hd1 = new HelloDynamic(); // no argument constructor\n",
    "        HelloDynamic hd2 = new HelloDynamic(\"Hello, Nighthawk Coding Society!\"); // one argument constructor\n",
    "        System.out.println(hd1.getHello()); // accessing getter\n",
    "        System.out.println(hd2.getHello()); \n",
    "    }\n",
    "}\n",
    "// IJava activation\n",
    "HelloDynamic.main(null);"
   ]
  },
  {
   "cell_type": "markdown",
   "metadata": {},
   "source": [
    "# Java Console Hacks "
   ]
  },
  {
   "cell_type": "code",
   "execution_count": 25,
   "metadata": {
    "vscode": {
     "languageId": "java"
    }
   },
   "outputs": [
    {
     "name": "stdout",
     "output_type": "stream",
     "text": [
      "Name: Mr.Mortensen\n",
      "Experience: 20 years\n",
      "Years in Company: 10 years\n",
      "Email: mort@gmail.com\n",
      "\n",
      "Name: Jishnu\n",
      "Experience: 2 years\n",
      "Years in Company: 0 years\n",
      "Email: jish@gmail.com\n",
      "\n",
      "Name: Lebron\n",
      "Experience: 2 years\n",
      "Years in Company: 0 years\n",
      "Email: dre@gmail.com\n",
      "\n"
     ]
    }
   ],
   "source": [
    "public class Work{\n",
    "    // Private object variables \n",
    "    private String name;\n",
    "    private int exp;\n",
    "    private int yearsincomp;\n",
    "    private String email;\n",
    "\n",
    "\n",
    "    // Constructor for the database \n",
    "    public Work(String name, int exp, int yearsincomp, String email){\n",
    "        this.name = name;\n",
    "        this.exp = exp;\n",
    "        this.yearsincomp = yearsincomp;\n",
    "        this.email = email;\n",
    "    }\n",
    "    \n",
    "    // Getter method for the name\n",
    "    public String getName() {\n",
    "        return name;\n",
    "    }\n",
    "\n",
    "    // Setter method for the name\n",
    "    public void setName(String name) {\n",
    "        this.name = name;\n",
    "    }\n",
    "\n",
    "    public int getExperience() {\n",
    "        return exp;\n",
    "    }\n",
    "\n",
    "    public void setExperience(int exp) {\n",
    "        this.exp = exp;\n",
    "    }\n",
    "\n",
    "    public int getYearsInCompany() {\n",
    "        return yearsincomp;\n",
    "    }\n",
    "\n",
    "    public void setYearsInCompany(int yearsincomp) {\n",
    "        this.yearsincomp = yearsincomp;\n",
    "    }\n",
    "\n",
    "    public String getEmail() {\n",
    "        return email;\n",
    "    }\n",
    "\n",
    "    public void setEmail(String email) {\n",
    "        this.email = email;\n",
    "    }\n",
    "\n",
    "    // Tester method/data\n",
    "    public static Work[] makeWork() {\n",
    "        Work[] worker = new Work[3];\n",
    "        worker[0] = new Work(\"Mr.Mortensen\", 20, 10, \"mort@gmail.com\");\n",
    "        worker[1] = new Work(\"Jishnu\", 2, 0, \"jish@gmail.com\");\n",
    "        worker[2] = new Work(\"Lebron\", 2, 0, \"dre@gmail.com\");\n",
    "        \n",
    "        return worker;\n",
    "    }\n",
    "\n",
    "    // main method\n",
    "    public static void main(String[] args) {\n",
    "        // Create an array of Work objects\n",
    "        Work[] workers = makeWork();\n",
    "\n",
    "        // Print information about the workers\n",
    "        for (Work worker : workers) {\n",
    "            System.out.println(\"Name: \" + worker.getName());\n",
    "            System.out.println(\"Experience: \" + worker.getExperience() + \" years\");\n",
    "            System.out.println(\"Years in Company: \" + worker.getYearsInCompany() + \" years\");\n",
    "            System.out.println(\"Email: \" + worker.getEmail());\n",
    "            System.out.println();\n",
    "        }\n",
    "    }\n",
    "}\n",
    "\n",
    "Work.main(null)"
   ]
  },
  {
   "cell_type": "markdown",
   "metadata": {},
   "source": [
    "Reorganization is important because it enables for us to look at maybe something specific and check if it is working or not without needing to search through a whole code segment in order to find or change something. AP identification allows for us to build connection to the stuff we are doing and even understand why we are doing something in class."
   ]
  },
  {
   "cell_type": "markdown",
   "metadata": {},
   "source": [
    "## Higher/Lower\n",
    "### Changes made:\n",
    "- Made it into a class"
   ]
  },
  {
   "cell_type": "code",
   "execution_count": 1,
   "metadata": {
    "vscode": {
     "languageId": "java"
    }
   },
   "outputs": [],
   "source": [
    "import java.util.Scanner;\n",
    "\n",
    "public class HorlGame {\n",
    "    public void play() {\n",
    "        System.out.println(\"Higher or Lower\");\n",
    "        System.out.println(\"You have three guesses to guess the number I am thinking of between 1-8.\");\n",
    "        System.out.println(\"If you guess the number correctly, you win!\");\n",
    "        Scanner scHL = new Scanner(System.in);\n",
    "        int randomG = (int) (Math.random() * 8) + 1;\n",
    "\n",
    "        for (int i = 3; i > 0; i--) {\n",
    "            int guess = scHL.nextInt();\n",
    "\n",
    "            if (guess == randomG) {\n",
    "                System.out.println(\"You win!\");\n",
    "                break;\n",
    "            } else if (guess > randomG) {\n",
    "                System.out.println(\"The number is lower\");\n",
    "            } else if (guess < randomG) {\n",
    "                System.out.println(\"The number is higher\");\n",
    "            }\n",
    "        }\n",
    "\n",
    "        System.out.println(\"Game over.\");\n",
    "        scHL.close();\n",
    "    }\n",
    "}"
   ]
  },
  {
   "cell_type": "markdown",
   "metadata": {},
   "source": [
    "## Rock Paper and Scissors\n",
    "### Changes made: \n",
    "- Made this into a class"
   ]
  },
  {
   "cell_type": "code",
   "execution_count": 2,
   "metadata": {
    "vscode": {
     "languageId": "java"
    }
   },
   "outputs": [],
   "source": [
    "import java.util.Random;\n",
    "import java.util.Scanner;\n",
    "\n",
    "public class RockPaperScissorsGame {\n",
    "    private Scanner scanner;\n",
    "    \n",
    "    public RockPaperScissorsGame() {\n",
    "        scanner = new Scanner(System.in);\n",
    "    }\n",
    "    \n",
    "    public void play() {\n",
    "        System.out.println(\"Rock Paper Scissors\");\n",
    "        System.out.println(\"Type 'r' for rock, 'p' for paper, or 's' for scissors\");\n",
    "        \n",
    "        String userChoice = getUserChoice();\n",
    "        String computerChoice = generateComputerChoice();\n",
    "        \n",
    "        determineWinner(userChoice, computerChoice);\n",
    "        \n",
    "        scanner.close();\n",
    "    }\n",
    "    \n",
    "    private String getUserChoice() {\n",
    "        String userChoice = scanner.nextLine().toLowerCase();\n",
    "        while (!isValidChoice(userChoice)) {\n",
    "            System.out.println(\"Invalid input, try again\");\n",
    "            userChoice = scanner.nextLine().toLowerCase();\n",
    "        }\n",
    "        return userChoice;\n",
    "    }\n",
    "    \n",
    "    private boolean isValidChoice(String choice) {\n",
    "        return choice.equals(\"r\") || choice.equals(\"p\") || choice.equals(\"s\");\n",
    "    }\n",
    "    \n",
    "    private String generateComputerChoice() {\n",
    "        int random = (int) (Math.random() * 3);\n",
    "        switch (random) {\n",
    "            case 0:\n",
    "                return \"r\"; // Rock\n",
    "            case 1:\n",
    "                return \"p\"; // Paper\n",
    "            default:\n",
    "                return \"s\"; // Scissors\n",
    "        }\n",
    "    }\n",
    "    \n",
    "    private void determineWinner(String userChoice, String computerChoice) {\n",
    "        System.out.println(\"You chose \" + translateChoice(userChoice));\n",
    "        System.out.println(\"The computer chose \" + translateChoice(computerChoice));\n",
    "        \n",
    "        if (userChoice.equals(computerChoice)) {\n",
    "            System.out.println(\"It's a tie!\");\n",
    "        } else if (\n",
    "            (userChoice.equals(\"r\") && computerChoice.equals(\"s\")) ||\n",
    "            (userChoice.equals(\"p\") && computerChoice.equals(\"r\")) ||\n",
    "            (userChoice.equals(\"s\") && computerChoice.equals(\"p\"))\n",
    "        ) {\n",
    "            System.out.println(\"You win!\");\n",
    "        } else {\n",
    "            System.out.println(\"You lose!\");\n",
    "        }\n",
    "    }\n",
    "    \n",
    "    private String translateChoice(String choice) {\n",
    "        switch (choice) {\n",
    "            case \"r\":\n",
    "                return \"rock\";\n",
    "            case \"p\":\n",
    "                return \"paper\";\n",
    "            default:\n",
    "                return \"scissors\";\n",
    "        }\n",
    "    }\n",
    "}"
   ]
  },
  {
   "cell_type": "markdown",
   "metadata": {},
   "source": [
    "## Tic Tac Toe\n",
    "### Changes made:\n",
    "- Previously code was using else and else if repeatedly instead, I used an array and compare the current board to the that array\n",
    "- Made player 2 run the same procedure for a move as player 1\n",
    "- Deleted the original computer moves and kept it as random but made it run a similar procedure as the a normal player"
   ]
  },
  {
   "cell_type": "code",
   "execution_count": 3,
   "metadata": {
    "vscode": {
     "languageId": "java"
    }
   },
   "outputs": [],
   "source": [
    "import java.util.Random;\n",
    "import java.util.Scanner;\n",
    "\n",
    "public class TicTacToeGame {\n",
    "    String[] board;\n",
    "    String currentPlayer;\n",
    "    boolean againstComputer;\n",
    "    int turn;\n",
    "\n",
    "    public TicTacToeGame() {\n",
    "        board = new String[]{\"1\", \"2\", \"3\", \"4\", \"5\", \"6\", \"7\", \"8\", \"9\"}; // we create the board using an array\n",
    "        currentPlayer = \"X\";\n",
    "        againstComputer = false;\n",
    "        turn = 0;\n",
    "    }\n",
    "\n",
    "    void play() {\n",
    "        System.out.println(\"Tic Tac Toe\");\n",
    "        Scanner scanner = new Scanner(System.in);\n",
    "\n",
    "        System.out.println(\"Do you want to play against a friend or the computer?\");\n",
    "        System.out.println(\"Type 1 for friend, 2 for computer\");\n",
    "        int choice = scanner.nextInt();\n",
    "\n",
    "        if (choice == 2) {\n",
    "            againstComputer = true;\n",
    "        }\n",
    "\n",
    "        while (true) {\n",
    "            printBoard();\n",
    "\n",
    "            if (turn == 9 || checkWin()) { // If this move was the 9th move check the win conditions and end loop\n",
    "                printResult();\n",
    "                break;\n",
    "            }\n",
    "\n",
    "            if (againstComputer && currentPlayer.equals(\"0\")) {\n",
    "                ComputerMove();\n",
    "            } else {\n",
    "                PlayerMove(scanner); // Move is made by player\n",
    "            }\n",
    "\n",
    "            turn++;\n",
    "            currentPlayer = (currentPlayer.equals(\"X\")) ? \"O\" : \"X\"; // if current player is X change it to 0 else if current player is 0, change it to X\n",
    "        }\n",
    "\n",
    "        scanner.close();\n",
    "    }\n",
    "\n",
    "    void printBoard() {\n",
    "        for (int i = 0; i < 9; i += 3) { // we set the range of variables and break it into 3 rows\n",
    "            System.out.println(board[i] + \" | \" + board[i + 1] + \" | \" + board[i + 2]);\n",
    "        }\n",
    "    } \n",
    "\n",
    "    void PlayerMove(Scanner scanner) {\n",
    "        int move;\n",
    "        do {\n",
    "            System.out.println(\"Player \" + currentPlayer + \"'s turn\");\n",
    "            System.out.println(\"Type the number of the square you want to place your piece in\");\n",
    "            move = scanner.nextInt();\n",
    "        } while (move < 1 || move > 9 || !board[move - 1].equals(Integer.toString(move))); //  while loop that runs until valid input \n",
    "\n",
    "        board[move - 1] = currentPlayer;\n",
    "    }\n",
    "\n",
    "    void ComputerMove() {\n",
    "        Random Cdecision = new Random();\n",
    "        int move;\n",
    "        do {\n",
    "            move = random.nextInt(9) + 1;\n",
    "        } while (!board[move - 1].equals(Integer.toString(move)));\n",
    "\n",
    "        System.out.println(\"Computer's move: O\");\n",
    "        board[move - 1] = currentPlayer;\n",
    "    }\n",
    "\n",
    "    boolean checkWin() {\n",
    "        return (board[0].equals(board[1]) && board[1].equals(board[2])) || // Checks the Rows\n",
    "                (board[3].equals(board[4]) && board[4].equals(board[5])) ||\n",
    "                (board[6].equals(board[7]) && board[7].equals(board[8])) ||\n",
    "                (board[0].equals(board[3]) && board[3].equals(board[6])) || // Checks the Columns\n",
    "                (board[1].equals(board[4]) && board[4].equals(board[7])) ||\n",
    "                (board[2].equals(board[5]) && board[5].equals(board[8])) ||\n",
    "                (board[0].equals(board[4]) && board[4].equals(board[8])) || // Checks the Diagonals\n",
    "                (board[2].equals(board[4]) && board[4].equals(board[6]));\n",
    "    }\n",
    "\n",
    "    void printResult() {\n",
    "        printBoard();\n",
    "        if (checkWin()) {\n",
    "            System.out.println(\"Player \" + currentPlayer + \" wins!\");\n",
    "        } else {\n",
    "            System.out.println(\"It's a tie!\");\n",
    "        }\n",
    "    }\n",
    "}"
   ]
  },
  {
   "cell_type": "markdown",
   "metadata": {},
   "source": [
    "## Menu"
   ]
  },
  {
   "cell_type": "code",
   "execution_count": 9,
   "metadata": {
    "vscode": {
     "languageId": "java"
    }
   },
   "outputs": [],
   "source": [
    "public class ConsoleGame {\n",
    "    public final String DEFAULT = \"\\u001B[0m\";  // Default Terminal Color\n",
    "    \n",
    "    public ConsoleGame() {\n",
    "        startGame();\n",
    "    }\n",
    "\n",
    "    public void startGame() {\n",
    "        Scanner sc = new Scanner(System.in);  // using Java Scanner Object\n",
    "        \n",
    "        boolean quit = false;\n",
    "        while (!quit) {\n",
    "            menuString();  // print Menu\n",
    "            try {\n",
    "                int choice = sc.nextInt();  // using method from Java Scanner Object\n",
    "                System.out.print(\"\" + choice + \": \");\n",
    "                quit = action(choice);  // take action\n",
    "            } catch (Exception e) {\n",
    "                sc.nextLine(); // error: clear buffer\n",
    "                System.out.println(e + \": Not a number, try again.\");\n",
    "            }\n",
    "        }\n",
    "        sc.close();\n",
    "    }\n",
    "\n",
    "    public void menuString(){\n",
    "        String menuText = \"\"\n",
    "                + \"\\u001B[35m___________________________\\n\"  \n",
    "                + \"|~~~~~~~~~~~~~~~~~~~~~~~~~|\\n\"\n",
    "                + \"|\\u001B[0m          Menu!          \\u001B[35m|\\n\"\n",
    "                + \"|~~~~~~~~~~~~~~~~~~~~~~~~~|\\n\"\n",
    "                + \"| 0 - Exit                |\\n\"    \n",
    "                + \"| 1 - Rock Paper Scissors |\\n\"\n",
    "                + \"| 2 - Higher or Lower     |\\n\"\n",
    "                + \"| 3 - Tic Tac Toe         |\\n\"\n",
    "                + \"|_________________________|   \\u001B[0m\\n\"\n",
    "                + \"\\n\"\n",
    "                + \"Choose an option.\\n\"\n",
    "                ;\n",
    "        System.out.println(menuText);\n",
    "    }\n",
    "\n",
    "    private boolean action(int selection) {\n",
    "        boolean quit = false;\n",
    "        switch (selection) {  // Switch or Switch/Case is Control Flow statement and is used to evaluate the user selection\n",
    "            case 0:\n",
    "                System.out.print(\"Goodbye, World!\"); \n",
    "                quit = true; \n",
    "                break;\n",
    "            case 1:\n",
    "                RockPaperScissorsGame rpsGame = new RockPaperScissorsGame();\n",
    "                rpsGame.play();\n",
    "                break;\n",
    "            case 2:\n",
    "                HorlGame horlGame = new HorlGame();\n",
    "                horlGame.play();\n",
    "                break;\n",
    "            case 3:\n",
    "                TicTacToeGame TTTGame = new TicTacToeGame();\n",
    "                TTTGame.play();\n",
    "                break;\n",
    "            default:\n",
    "                //Prints error message from console\n",
    "                System.out.print(\"Unexpected choice, try again.\");\n",
    "        }\n",
    "        System.out.println(DEFAULT);  // make sure to reset color and provide a new line\n",
    "        return quit;\n",
    "    }\n",
    "\n",
    "    public static void main(String[] args) {\n",
    "        ConsoleGame game = new ConsoleGame();\n",
    "        game.startGame();\n",
    "    }\n",
    "}"
   ]
  },
  {
   "cell_type": "markdown",
   "metadata": {},
   "source": [
    "# Key Takeaways / Things I learnt\n",
    "- Some important things that I learnt is that static makes it so that you cant modify the values in something \n",
    "- I also learned about the different operators and how they are in Java, example: || is or, && is and, ? is if its true it returns true, if its false, it'll return false \n",
    "- I also learnt the different things in Java such as void. Void is used as a way to run code and discard its result\n",
    "- Public can be accessed by any class or package but private hides it from external code "
   ]
  }
 ],
 "metadata": {
  "kernelspec": {
   "display_name": "Java",
   "language": "java",
   "name": "java"
  },
  "language_info": {
   "codemirror_mode": "java",
   "file_extension": ".jshell",
   "mimetype": "text/x-java-source",
   "name": "Java",
   "pygments_lexer": "java",
   "version": "11.0.20+8-post-Ubuntu-1ubuntu120.04"
  },
  "orig_nbformat": 4
 },
 "nbformat": 4,
 "nbformat_minor": 2
}
