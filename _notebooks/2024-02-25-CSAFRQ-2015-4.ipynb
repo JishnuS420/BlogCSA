{
 "cells": [
  {
   "cell_type": "markdown",
   "metadata": {},
   "source": [
    "---\n",
    "layout: post\n",
    "title: APCSA 2015 Question 4\n",
    "description:\n",
    "courses: { csa: {week: 24} }\n",
    "categories: []\n",
    "type: hacks\n",
    "toc: true\n",
    "---"
   ]
  },
  {
   "cell_type": "markdown",
   "metadata": {},
   "source": [
    "# Question 4:\n",
    "This question involves the design of an interface, writing a class that implements the interface, and writing a method that uses the interface.\n",
    "\n",
    "## Part A:\n",
    "A number group represents a group of integers defined in some way. It could be empty, or it could contain one or more integers. Write an interface named NumberGroup that represents a group of integers. The interface should have a single contains method that determines if a given integer is in the group. For example, if group1 is of type NumberGroup, and it contains only the two numbers -5 and 3, then group1.contains(-5) would return true, and group1.contains(2) would return false. \n",
    "\n",
    "Write the complete NumberGroup interface. It must have exactly one method. \n",
    "\n",
    "## Part B:\n",
    "A range represents a number group that contains all (and only) the integers between a minimum value and a maximum value, inclusive. \n",
    "\n",
    "Write the Range class, which is a NumberGroup. The Range class represents the group of int values that range from a given minimum value up through a given maximum value, inclusive. For example, \n",
    "the declaration: NumberGroup range1 = new Range(-3, 2); represents the group of integer values -3, -2, -1, 0, 1, 2. \n",
    "\n",
    "Write the complete Range class. Include all necessary instance variables and methods as well as a constructor that takes two int parameters. The first parameter represents the minimum value, and the second parameter represents the maximum value of the range. You may assume that the minimum is less than or equal to the maximum.\n",
    "\n",
    "## Part C:\n",
    "The MultipleGroups class (not shown) represents a collection of NumberGroup objects and is a NumberGroup. The MultipleGroups class stores the number groups in the instance variable groupList (shown below), which is initialized in the constructor: private List<NumberGroup> groupList; \n",
    "\n",
    "Write the MultipleGroups method contains. The method takes an integer and returns true if and only if the integer is contained in one or more of the number groups in groupList. \n",
    "\n",
    "For example, suppose multiple1 has been declared as an instance of MultipleGroups and consists of the three ranges created by the calls new Range(5, 8), new Range(10, 12), and new Range(1, 6). The following table shows the results of several calls to contains. \n",
    "\n",
    "## Question Type:\n",
    "- Method and Control Structures\n",
    "\n",
    "## Overall Objectives:\n",
    "Create a interface that has:\n",
    "- A single method interface called `NumberGroup`\n",
    "- A `Range` class that represents and only contains the range values\n",
    "- Create variables and extend the `NumberGroup` into the `Range` class\n",
    "- A class called `MultipleGroups` that represents the collection of `NumberGroup` and stores many of these in the variable `groupList`\n",
    "- Create constructors and extend the `NumberGroup` into the `MultipleGroups`\n"
   ]
  },
  {
   "cell_type": "code",
   "execution_count": 2,
   "metadata": {},
   "outputs": [
    {
     "name": "stdout",
     "output_type": "stream",
     "text": [
      "Contains 2?: true\n",
      "Contains 6?: true\n",
      "Contains 9?: false\n"
     ]
    }
   ],
   "source": [
    "import java.util.List;\n",
    "import java.util.ArrayList;\n",
    "\n",
    "public interface NumberGroup { // A (A single method interface called `NumberGroup`)\n",
    "    boolean contains(int number);\n",
    "}\n",
    "\n",
    "public class Range implements NumberGroup { // B (A Range class that represents and only contains the range values)\n",
    "    private int min;\n",
    "    private int max;\n",
    "\n",
    "    public Range(int min, int max) { // constructor class to store the ranges\n",
    "        this.min = min;\n",
    "        this.max = max;\n",
    "    }\n",
    "\n",
    "    @Override // overriding the inherited values from the NumberGroup and \n",
    "    public boolean contains(int number) {\n",
    "        return number >= min && number <= max; // returns true if the value is in range\n",
    "    }\n",
    "}\n",
    "\n",
    "public class MultipleGroups implements NumberGroup { // C (A class called `MultipleGroups` that represents the collection of `NumberGroup` and stores many of these in the variable `groupList`)\n",
    "    private List<NumberGroup> groupList;\n",
    "\n",
    "    public MultipleGroups() {\n",
    "        this.groupList = new ArrayList<NumberGroup>(); // constructor to store the NumberGroup list made\n",
    "    }\n",
    "\n",
    "    public void addGroup(NumberGroup group) {\n",
    "        groupList.add(group);\n",
    "    }\n",
    "\n",
    "    @Override // override the inherited values from number group\n",
    "    public boolean contains(int number) {\n",
    "        for (NumberGroup group : groupList) {\n",
    "            if (group.contains(number)) {\n",
    "                return true;\n",
    "            }\n",
    "        }\n",
    "        return false;\n",
    "    }\n",
    "}\n",
    "\n",
    "public class MultipleContained { // tester data\n",
    "    public static void main(String[] args) {\n",
    "        MultipleGroups multiple1 = new MultipleGroups();\n",
    "        multiple1.addGroup(new Range(5, 8));\n",
    "        multiple1.addGroup(new Range(10, 12));\n",
    "        multiple1.addGroup(new Range(1, 6));\n",
    "\n",
    "        System.out.println(\"Contains 2?: \" + multiple1.contains(2));\n",
    "        System.out.println(\"Contains 6?: \" + multiple1.contains(6));\n",
    "        System.out.println(\"Contains 9?: \" + multiple1.contains(9));\n",
    "    }\n",
    "}\n",
    "\n",
    "MultipleContained.main(null)"
   ]
  },
  {
   "cell_type": "markdown",
   "metadata": {},
   "source": [
    "## Reflection: \n",
    "- This frq in particular was pretty easy to do and wasn't too challenging to complete and honestly I give that all to my CSP experience, the interface uses a lot of inheritance and I still remember the things that I have taught during that student lesson \n",
    "- This frq uses a lot of constructors and variables and those are pretty easy to do so this frq wasn't that bad and was really easy to understand"
   ]
  },
  {
   "cell_type": "markdown",
   "metadata": {},
   "source": [
    "<script src=\"https://utteranc.es/client.js\"\n",
    "        repo=\"JishnuS420/BlogCSA\"\n",
    "        issue-term=\"pathname\"\n",
    "        theme=\"github-dark\"\n",
    "        crossorigin=\"anonymous\"\n",
    "        async>\n",
    "</script>"
   ]
  }
 ],
 "metadata": {
  "kernelspec": {
   "display_name": "Java",
   "language": "java",
   "name": "java"
  },
  "language_info": {
   "codemirror_mode": "java",
   "file_extension": ".jshell",
   "mimetype": "text/x-java-source",
   "name": "java",
   "pygments_lexer": "java",
   "version": "17.0.9+9-Ubuntu-120.04"
  }
 },
 "nbformat": 4,
 "nbformat_minor": 2
}
