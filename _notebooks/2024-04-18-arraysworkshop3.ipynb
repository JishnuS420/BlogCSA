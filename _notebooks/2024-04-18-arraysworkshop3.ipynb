{
 "cells": [
  {
   "cell_type": "markdown",
   "metadata": {},
   "source": [
    "---\n",
    "layout: post\n",
    "title: Arrays \n",
    "description: Arrays Lesson (FINAL)\n",
    "courses: { csa: {week: 0} }\n",
    "type: plans\n",
    "---"
   ]
  },
  {
   "cell_type": "markdown",
   "metadata": {},
   "source": [
    "# Lesson on Arrays in Java\n",
    "\n",
    "## Introduction\n",
    "- Arrays are fundamental data structures in Java that allow storing multiple elements of the same type under a single variable.\n",
    "- They provide a convenient way to work with collections of data efficiently.\n",
    "\n",
    "## Array Creation and Access\n",
    "- **Use of Array Objects**: Arrays allow multiple related items to be represented using a single variable.\n",
    "- **Fixed Size**: The size of an array is established at the time of creation and cannot be changed.\n",
    "- **Initialization**: Arrays are created using the `new` keyword, and their elements are initialized with specific values based on the type of element. Elements of reference type are initialized to the reference value `null`.\n",
    "- **ArrayIndexOutOfBoundsException**: Accessing elements outside the bounds of the array leads to this exception."
   ]
  },
  {
   "cell_type": "code",
   "execution_count": 1,
   "metadata": {
    "vscode": {
     "languageId": "java"
    }
   },
   "outputs": [
    {
     "ename": "EvalException",
     "evalue": "Index 10 out of bounds for length 5",
     "output_type": "error",
     "traceback": [
      "\u001b[1m\u001b[31m---------------------------------------------------------------------------\u001b[0m",
      "\u001b[1m\u001b[31mjava.lang.ArrayIndexOutOfBoundsException: Index 10 out of bounds for length 5\u001b[0m",
      "\u001b[1m\u001b[31m\tat ArrayExceptionExample.main(#12:6)\u001b[0m",
      "\u001b[1m\u001b[31m\tat .(#13:1)\u001b[0m"
     ]
    }
   ],
   "source": [
    "public class ArrayExceptionExample {\n",
    "    public static void main(String[] args) {\n",
    "        int[] numbers = {1, 2, 3, 4, 5};\n",
    "\n",
    "        // accessing element out of bounds of array\n",
    "        int indexOutOfRange = numbers[10]; // this will throw the error\n",
    "    }\n",
    "}\n",
    "\n",
    "ArrayExceptionExample.main(null);\n"
   ]
  },
  {
   "cell_type": "code",
   "execution_count": 2,
   "metadata": {
    "vscode": {
     "languageId": "java"
    }
   },
   "outputs": [
    {
     "name": "stdout",
     "output_type": "stream",
     "text": [
      "Element at index 0: 18\n",
      "Element at index 1: 21\n",
      "Element at index 2: 1\n",
      "Element at index 3: 57\n",
      "Element at index 4: 15\n"
     ]
    }
   ],
   "source": [
    "import java.util.Random;\n",
    "\n",
    "public class Array {\n",
    "    public static void main(String[] args) {\n",
    "        // creating array of integers with size 5\n",
    "        int[] numbers = new int[5];\n",
    "\n",
    "        // generating random values and assigning them to elements of the array\n",
    "        Random random = new Random();\n",
    "        for (int i = 0; i < numbers.length; i++) {\n",
    "            numbers[i] = random.nextInt(100); // random integers are between 0 and 99\n",
    "        }\n",
    "\n",
    "        // accessing and printing elements of the array\n",
    "        for (int i = 0; i < numbers.length; i++) {\n",
    "            System.out.println(\"Element at index \" + i + \": \" + numbers[i]);\n",
    "        }\n",
    "    }\n",
    "}\n",
    "\n",
    "Array.main(null);\n"
   ]
  },
  {
   "cell_type": "markdown",
   "metadata": {},
   "source": [
    "## Traversing Arrays\n",
    "- **Iteration Statements**: Iteration statements like `for` or `while` loops are used to access all elements in an array.\n",
    "- **Indexed Access**: Traversing an array with an indexed `for` loop or `while` loop requires accessing elements using their indices.\n",
    "\n",
    "\n",
    "## Enhanced for loop for Arrays\n",
    "- **Syntax**: An enhanced `for` loop header includes a variable that iterates over each element in the array.\n",
    "- **Element Access**: During each iteration, the enhanced `for` loop variable is assigned a copy of an element without using its index.\n",
    "- **Immutability**: Modifying the enhanced `for` loop variable does not change the value stored in the array.\n",
    "- **Flexibility**: Program code using an enhanced `for` loop for array traversal can be rewritten using an indexed `for` loop or a `while` loop."
   ]
  },
  {
   "cell_type": "code",
   "execution_count": 3,
   "metadata": {
    "vscode": {
     "languageId": "java"
    }
   },
   "outputs": [
    {
     "name": "stdout",
     "output_type": "stream",
     "text": [
      "Traversing the array using a for loop:\n",
      "Element at index 0: 10\n",
      "Element at index 1: 20\n",
      "Element at index 2: 30\n",
      "Element at index 3: 40\n",
      "Element at index 4: 50\n",
      "\n",
      "Traversing the array using an enhanced for loop:\n",
      "Element: 10\n",
      "Element: 20\n",
      "Element: 30\n",
      "Element: 40\n",
      "Element: 50\n"
     ]
    }
   ],
   "source": [
    "public class ArrayTraversal {\n",
    "    public static void main(String[] args) {\n",
    "        // creating integer array\n",
    "        int[] numbers = {10, 20, 30, 40, 50};\n",
    "\n",
    "        // traversing array with for loop\n",
    "        System.out.println(\"Traversing the array using a for loop:\");\n",
    "        for (int i = 0; i < numbers.length; i++) {\n",
    "            System.out.println(\"Element at index \" + i + \": \" + numbers[i]);\n",
    "        }\n",
    "\n",
    "        // traversing array with enhanced for loop\n",
    "        System.out.println(\"\\nTraversing the array using an enhanced for loop:\");\n",
    "        for (int num : numbers) {\n",
    "            System.out.println(\"Element: \" + num);\n",
    "        }\n",
    "    }\n",
    "}\n",
    "\n",
    "ArrayTraversal.main(null);"
   ]
  },
  {
   "cell_type": "markdown",
   "metadata": {},
   "source": [
    "## FRQ Tip for Developing Algorithms Using Arrays"
   ]
  },
  {
   "cell_type": "markdown",
   "metadata": {},
   "source": [
    "# Be familiar with certain algorithms that are likely to come on the exam:\n",
    "\n",
    "- Determine the minimum or maximum value in an array\n",
    "\n",
    "- Compute a sum, average, or mode of array elements\n",
    "\n",
    "- Search for a particular element in the array\n",
    "\n",
    "- Determine if at least one element has a particular property\n",
    "\n",
    "- Determine if all elements have a particular property\n",
    "\n",
    "- Access all consecutive pairs of elements\n",
    "\n",
    "- Determine the presence or absence of duplicate elements\n",
    "\n",
    "- Determine the number of elements meeting specific criteria\n",
    "\n",
    "- Shift or rotate elements left or right\n",
    "\n",
    "- Reverse the order of the elements"
   ]
  },
  {
   "cell_type": "markdown",
   "metadata": {},
   "source": [
    "## SAMPLE FRQ PART: 2019 Question 3"
   ]
  },
  {
   "cell_type": "markdown",
   "metadata": {},
   "source": [
    "A string containing text and possibly delimiters has been split into *tokens* and stored in String[] tokens. Each token is either an open delimiter, a close delimiter, or a substring that is not a delimiter. You will write the method getDelimitersList, which returns an ArrayList containing all the open and close delimiters found in *tokens* in their original order. \n",
    "\n",
    "<br>\n",
    "\n",
    "Complete method getDelimitersList below:\n",
    "\n",
    "public ArrayList<String> getDelimitersList (String[] tokens)"
   ]
  },
  {
   "cell_type": "markdown",
   "metadata": {},
   "source": [
    "**GIVEN SOLUTION**"
   ]
  },
  {
   "cell_type": "code",
   "execution_count": null,
   "metadata": {
    "vscode": {
     "languageId": "java"
    }
   },
   "outputs": [],
   "source": [
    "public ArrayList<String> getDelimitersList(String[] tokens)\n",
    "{\n",
    "    // creating a new ArrayList to store delimiter tokens\n",
    "    ArrayList<String> d = new ArrayList<String>();\n",
    "    \n",
    "    // use enhanced for loop to iterate through each token in the provided array\n",
    "    for (String str : tokens)\n",
    "    {\n",
    "        // check if current token is equal to the specified open delimiter or close delimiter\n",
    "        if (str.equals(openDel) || str.equals(closeDel))\n",
    "        {\n",
    "            // if token is delimiter, add to arraylist\n",
    "            d.add(str);\n",
    "        }\n",
    "    }\n",
    "    \n",
    "    // return arraylist with delimiter tokens\n",
    "    return d;\n",
    "}\n"
   ]
  },
  {
   "cell_type": "markdown",
   "metadata": {},
   "source": [
    "**SCORING CRITERIA**"
   ]
  },
  {
   "cell_type": "markdown",
   "metadata": {},
   "source": [
    "1. Create the ArrayList<String>\n",
    "\n",
    "<br>\n",
    "\n",
    "2. Accesses all elements in array *tokens* without any bound errors.\n",
    "\n",
    "<br>\n",
    "\n",
    "3. Compares strings in *tokens* with both instance variables which must be in the context of a loop.\n",
    "\n",
    "<br>\n",
    "\n",
    "4. Adds delimiters into ArrayList in original order."
   ]
  },
  {
   "cell_type": "markdown",
   "metadata": {},
   "source": [
    "## HACKS"
   ]
  },
  {
   "cell_type": "markdown",
   "metadata": {},
   "source": [
    "PART A: How does the use of an array simplify the management of related data compared to individual variables?"
   ]
  },
  {
   "cell_type": "markdown",
   "metadata": {},
   "source": [
    "<br>"
   ]
  },
  {
   "cell_type": "markdown",
   "metadata": {},
   "source": [
    "PART B: Develop an algorithm to find the median value of an integer array WITHOUT sorting the array."
   ]
  }
 ],
 "metadata": {
  "kernelspec": {
   "display_name": "Java",
   "language": "java",
   "name": "java"
  },
  "language_info": {
   "codemirror_mode": "java",
   "file_extension": ".jshell",
   "mimetype": "text/x-java-source",
   "name": "Java",
   "pygments_lexer": "java",
   "version": "17.0.10+7-Ubuntu-120.04.1"
  }
 },
 "nbformat": 4,
 "nbformat_minor": 2
}
