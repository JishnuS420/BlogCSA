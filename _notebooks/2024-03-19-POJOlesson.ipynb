{
 "cells": [
  {
   "cell_type": "markdown",
   "metadata": {},
   "source": [
    "## Working with Collections\n",
    "\n",
    "- During the AP CSA Exam, you might come across a question asking for you to use a type of collection or objects like a ArrayList or Strings and manage a group of POJOs\n",
    "\n",
    "- POJOs also help to reduce the number of times that something is instantiated, allowing for a more organized and possibly simpler code\n",
    "\n",
    "- POJO are really effective especially when it comes to object oriented programming "
   ]
  },
  {
   "cell_type": "code",
   "execution_count": 3,
   "metadata": {
    "vscode": {
     "languageId": "java"
    }
   },
   "outputs": [
    {
     "name": "stdout",
     "output_type": "stream",
     "text": [
      "Message: Hey guys this is an example\n",
      "Number of Lines: 2\n",
      "Lines:\n",
      "Hey guys this is an ;example\n",
      "\n",
      "Message: of a POJO in a collection\n",
      "Number of Lines: 2\n",
      "Lines:\n",
      "of a POJO in a ;collection\n",
      "\n"
     ]
    }
   ],
   "source": [
    "// Example is from the AP CSA FRQ 2023, Question 2 but modified a little \n",
    "\n",
    "import java.util.ArrayList;\n",
    "\n",
    "public class Sign {\n",
    "    private String message;\n",
    "    private int lineWidth;\n",
    "\n",
    "    public Sign(String message, int lineWidth) { // Constructors using POJOs\n",
    "        this.message = message;\n",
    "        this.lineWidth = lineWidth;\n",
    "    }\n",
    "\n",
    "    public int numberOfLines() {\n",
    "        int lines = message.length() / lineWidth;\n",
    "\n",
    "        if (message.length() % lineWidth > 0)\n",
    "            lines++;\n",
    "\n",
    "        return lines;\n",
    "    }\n",
    "\n",
    "    public String getLines() {\n",
    "        if (message.length() == 0)\n",
    "            return null;\n",
    "\n",
    "        String lines = \"\";\n",
    "        String messageRemaining = message;\n",
    "\n",
    "        while (messageRemaining.length() > lineWidth) {\n",
    "            lines += messageRemaining.substring(0, lineWidth);\n",
    "            lines += \";\";\n",
    "            messageRemaining = messageRemaining.substring(lineWidth);\n",
    "        }\n",
    "\n",
    "        lines += messageRemaining;\n",
    "\n",
    "        return lines;\n",
    "    }\n",
    "\n",
    "    public static void main(String[] args) { // Example of managing a collection of Sign objects\n",
    "        ArrayList<Sign> signs = new ArrayList<>();\n",
    "\n",
    "        signs.add(new Sign(\"Hey guys this is an example\", 20)); // Create and add Sign objects to the collection\n",
    "        signs.add(new Sign(\"of a POJO in a collection\", 15));\n",
    "\n",
    "        for (Sign sign : signs) { // Print information for each Sign object\n",
    "            System.out.println(\"Message: \" + sign.message);\n",
    "            System.out.println(\"Number of Lines: \" + sign.numberOfLines());\n",
    "            System.out.println(\"Lines:\");\n",
    "            System.out.println(sign.getLines());\n",
    "            System.out.println();\n",
    "        }\n",
    "    }\n",
    "}\n",
    "Sign.main(null)"
   ]
  },
  {
   "cell_type": "markdown",
   "metadata": {},
   "source": [
    "### One important thing to note:\n",
    "- POJOs aren't always required for the CSA FRQ and sometimes aren't even in the requirements for the question, however, it is something that you should know and should have as one of you different techniques to approaching code especially when it comes to working code using OOP and also serves a good way to understand/show understanding of Java better"
   ]
  },
  {
   "cell_type": "markdown",
   "metadata": {},
   "source": [
    "## Serialization and Deserialization (not really a focus on the AP Exam)\n",
    "\n",
    "- Serialization and Deserialization is the conversion of an object into a more storable or transmittable form of data (serialization) and then converting those objects back to a Java Objects\n",
    "\n",
    "- Examples would be: JSON and XML \n",
    "\n",
    "Here is a diagram showing a general idea of how it works:\n",
    "\n",
    "![Serialization and Deserialization Diagram](link)\n",
    "\n",
    "While not on the AP Exam, they are a very important part of Java programming and a basic understanding can help alot"
   ]
  },
  {
   "cell_type": "markdown",
   "metadata": {},
   "source": [
    "## Encapsulation and Access Control\n",
    "\n",
    "- Tasks may assess your understanding of encapsulation by requiring appropriate use of access modifiers (public, private, protected)."
   ]
  }
 ],
 "metadata": {
  "kernelspec": {
   "display_name": "Java",
   "language": "java",
   "name": "java"
  },
  "language_info": {
   "codemirror_mode": "java",
   "file_extension": ".jshell",
   "mimetype": "text/x-java-source",
   "name": "Java",
   "pygments_lexer": "java",
   "version": "17.0.9+9-Ubuntu-120.04"
  }
 },
 "nbformat": 4,
 "nbformat_minor": 2
}
