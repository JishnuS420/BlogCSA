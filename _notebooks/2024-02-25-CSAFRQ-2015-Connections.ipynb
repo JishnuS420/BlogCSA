{
 "cells": [
  {
   "cell_type": "markdown",
   "metadata": {},
   "source": [
    "---\n",
    "layout: post\n",
    "title: APCSA 2015 Question Connections\n",
    "description:\n",
    "courses: { csa: {week: 24} }\n",
    "categories: []\n",
    "type: hacks\n",
    "toc: true\n",
    "---"
   ]
  },
  {
   "cell_type": "markdown",
   "metadata": {},
   "source": [
    "## Question 1:\n",
    "This question was the one about the 1D and 2D Arrays and ArrayLists and while it focused more on the iterating through the arrays and analyzing that information, we can see the topic of 1D and 2D arrays being reflected in the users and also the player statistics that being loaded for the user to see. For the users, while this isn't user side, when testing for user data, we store the persons that we created for the tester data in an array of objects:\n",
    "\n",
    "![]({{ site.baseurl }}/images/connection1.png)\n",
    "\n",
    "We also store and display the players and their statistics using an ArrayList and althought it hasn't entirely been completed yet, it is something that we are going to be working on in the future:\n",
    "\n",
    "![]({{ site.baseurl }}/images/connection2.png)\n",
    "\n",
    "## Question 2:\n",
    "Question 2 dealt with a lot of the classes and their constructors and variables, this is one of the key and most fundemental things for our project since we do a lot of data management and manipulation so not having these would be a huge downfall. One of my personal examples of me implmenting this would be in the `Person.java` file where I would work on the Hashmap and as well as storing the user information:\n",
    "\n",
    "![]({{ site.baseurl }}/images/connection3.png)\n",
    "\n",
    "While the Hashmap and User feature is something that is still largely development, we have huge goals for next trimester so that users can comfortably use two computers and face off and would also be a huge aspect of the league and tournaments in between players and their saved players and teams\n",
    "\n",
    "## Question 3: \n",
    "Question 3, the hardest question on the 2015 frq in my opinion, was about the 2D Arrays and storing data, although I initially had little to no clue about what the Sparse Array was, after researching about it and spending a lot of time understanding it, I understand that we don't have this in our porject just yet \n",
    "\n",
    "HOWEVER\n",
    "\n",
    "I do see that its an amazing way for storing and displaying large arrays of values and lots of data, so while it might not be implmented into our project yet, I can see some possible implementation of it into our projects through the usage of images into our project, especially since it is a feature that we need to adapt for the individual player data and it also possible to be implmented with storing the data that we collect from the neural network and so it is definetly something that we will see comeback at us next trimester\n",
    "\n",
    "## Question 4\n",
    "Finally, this question was one that I was very familar with and that is methods and control structures and interfaces. While we didn't really start working on the interface and inheritance portion of roles into our project, this question has a lot of potential into our project since we have a variety of things that we are planning on implmenting, one of which would be the recommnedations feature. The PersonJpaRepository.java enables for users to be isolated and searched by different factors and acts in a way very similar to what question 4 had us doing:\n",
    "\n",
    "![]({{ site.baseurl }}/images/connection4.png)\n",
    "\n",
    "Going into the next trimester, I see potential that we could take this file and implement it with our possible League/tournamnets feature and also implement it with the recommendations feature to help perform CRUD operations in those features.\n",
    "\n",
    "## Final Thoughts and Reflection:\n",
    "\n",
    "It's safe to say that everything that I have done in this class has helped me in some shape or way to grow and learn new things and while I still struggle with some topics like 2D Arrays and the more term oriented sides of Computer Science, these FRQs helped make me bring out what I had expeirenced in the classes. The problems related to arrays reuqired me to use the knowledge I learnt from multiple lessons on loops and arrays and ultilizing them along with the experience I have gained from working on many projects of my choice and with the 2nd question dealing with the classes and constructors, everything that we have seen and watching all of these things connect with the things we have seen really made me realize the value of the things that we have done so far, a lot of these frqs were challenging and even though I am not perfect, it helped me realize that my downfalls are truly what I am unaware of and havent worked with, however, that the inverse is also true, the more that I have coded and worked on things, the easier and better that I am able to understand them."
   ]
  },
  {
   "cell_type": "markdown",
   "metadata": {},
   "source": [
    "<script src=\"https://utteranc.es/client.js\"\n",
    "        repo=\"JishnuS420/BlogCSA\"\n",
    "        issue-term=\"pathname\"\n",
    "        theme=\"github-dark\"\n",
    "        crossorigin=\"anonymous\"\n",
    "        async>\n",
    "</script>"
   ]
  }
 ],
 "metadata": {
  "kernelspec": {
   "display_name": "Java",
   "language": "java",
   "name": "java"
  },
  "language_info": {
   "name": "java"
  }
 },
 "nbformat": 4,
 "nbformat_minor": 2
}
