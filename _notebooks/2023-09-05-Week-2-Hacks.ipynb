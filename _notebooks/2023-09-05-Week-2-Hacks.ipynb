{
 "cells": [
  {
   "cell_type": "markdown",
   "metadata": {},
   "source": [
    "---\n",
    "toc: true\n",
    "comments: true\n",
    "layout: post\n",
    "title: Week 2 Hacks\n",
    "description: Things we did and learnt during week 2\n",
    "courses: {csa: {week: 2} }\n",
    "type: tangibles\n",
    "---"
   ]
  },
  {
   "cell_type": "markdown",
   "metadata": {},
   "source": [
    "# Data to test with so you don't have to look up the reviews"
   ]
  },
  {
   "cell_type": "markdown",
   "metadata": {},
   "source": [
    "Test Negative:\n",
    "The experience is horrible all the way from the parking to getting into the park. Once you finally make it into the park you're already exhausted. Lines to get on rides are ridiculously long.We bought the fast pass and it's pointless because it does not get you on rides any faster,do not buy it you have to schedule rides through it, it's stupid. Overall everything is too expensive and within minutes of being at the park I just wanted to leave and wish that I didn't waste my money on this. It's overly packed with no comfortability. I gave up and just left I really wish I could get a refund because the experience is not worth all the hype.\n",
    "\n",
    "\n",
    "\n",
    "Test Positive:\n",
    "What a great park! What it separates it from other theme parks from all over the world is that it feels like you are really in a Disneyland because even the sky is not real because it’s kind of built up to a certain point… Mountains with snow etc… The rides are great, the waiting time is always displayed and it doesn’t really feels like waiting because they show you always some specials things on the way, sometimes you don’t even know on which point the ride is really starting. Great experience!!!\n"
   ]
  },
  {
   "cell_type": "markdown",
   "metadata": {},
   "source": [
    "# JavaScript Output and Input with API"
   ]
  },
  {
   "cell_type": "code",
   "execution_count": 4,
   "metadata": {},
   "outputs": [
    {
     "data": {
      "text/html": [
       "<html>\n",
       "<head>\n",
       "    <title>Sentiment Analysis</title>\n",
       "</head>\n",
       "<body>\n",
       "    <h1>Sentiment Analysis</h1>\n",
       "    <label for=\"textInput\">Enter text for sentiment analysis:</label>\n",
       "    <input type=\"text\" id=\"textInput\">\n",
       "    <button id=\"analyzeButton\">Analyze</button>\n",
       "    \n",
       "    <!-- Add a div element to display the output -->\n",
       "    <div id=\"output\"></div>\n",
       "\n",
       "    <script src=\"https://code.jquery.com/jquery-3.6.0.min.js\"></script>\n",
       "    <script>\n",
       "        // Function to handle the AJAX request\n",
       "        function performSentimentAnalysis(text) {\n",
       "            const settings = {\n",
       "                async: true,\n",
       "                crossDomain: true,\n",
       "                url: 'https://sentiment-analysis40.p.rapidapi.com/api/sentiment',\n",
       "                method: 'POST',\n",
       "                headers: {\n",
       "                    'content-type': 'application/json',\n",
       "                    'X-RapidAPI-Key': '48e23c6bf3msh9a6baf3e68d9a4ep14546ajsn1a39e98c4ad5',\n",
       "                    'X-RapidAPI-Host': 'sentiment-analysis40.p.rapidapi.com'\n",
       "                },\n",
       "                processData: false,\n",
       "                data: JSON.stringify({\n",
       "                    \"language\": \"en\",\n",
       "                    \"text\": text\n",
       "                })\n",
       "            };\n",
       "\n",
       "            // Send the AJAX request\n",
       "            $.ajax(settings)\n",
       "                .done(function (response) {\n",
       "                    console.log(response);\n",
       "                    // Extract relevant information from the JSON response\n",
       "                    const outputDiv = document.getElementById(\"output\");\n",
       "\n",
       "                    // Check if the response contains the \"result\" object\n",
       "                    if (response && response.result) {\n",
       "                        const sentimentLabel = response.result.label;\n",
       "                        const sentimentScore = response.result.score;\n",
       "                        outputDiv.textContent = \"Sentiment Label: \" + sentimentLabel + \"\\nSentiment Score: \" + sentimentScore;\n",
       "                    } else {\n",
       "                        outputDiv.textContent = \"Unable to parse the response.\";\n",
       "                    }\n",
       "                })\n",
       "                .fail(function (error) {\n",
       "                    console.error(\"Error:\", error);\n",
       "                    // Handle errors here\n",
       "                    const outputDiv = document.getElementById(\"output\");\n",
       "                    outputDiv.textContent = \"Error occurred during sentiment analysis.\";\n",
       "                });\n",
       "        }\n",
       "\n",
       "        // Get references to the input and button elements\n",
       "        const textInput = document.getElementById(\"textInput\");\n",
       "        const analyzeButton = document.getElementById(\"analyzeButton\");\n",
       "\n",
       "        // Attach a click event listener to the button\n",
       "        analyzeButton.addEventListener(\"click\", function () {\n",
       "            const userInput = textInput.value;\n",
       "            if (userInput) {\n",
       "                performSentimentAnalysis(userInput);\n",
       "            } else {\n",
       "                console.log(\"No input provided.\");\n",
       "                const outputDiv = document.getElementById(\"output\");\n",
       "                outputDiv.textContent = \"Please enter some text for sentiment analysis.\";\n",
       "            }\n",
       "        });\n",
       "    </script>\n",
       "</body>\n",
       "</html>\n"
      ],
      "text/plain": [
       "<IPython.core.display.HTML object>"
      ]
     },
     "metadata": {},
     "output_type": "display_data"
    }
   ],
   "source": [
    "%%html\n",
    "<html>\n",
    "<head>\n",
    "    <title>Sentiment Analysis</title>\n",
    "</head>\n",
    "<body>\n",
    "    <h1>Sentiment Analysis</h1>\n",
    "    <label for=\"textInput\">Enter text for sentiment analysis:</label>\n",
    "    <input type=\"text\" id=\"textInput\">\n",
    "    <button id=\"analyzeButton\">Analyze</button>\n",
    "    \n",
    "    <!-- Add a div element to display the output -->\n",
    "    <div id=\"output\"></div>\n",
    "\n",
    "    <script src=\"https://code.jquery.com/jquery-3.6.0.min.js\"></script>\n",
    "    <script>\n",
    "        // Function to handle the AJAX request\n",
    "        function performSentimentAnalysis(text) {\n",
    "            const settings = {\n",
    "                async: true,\n",
    "                crossDomain: true,\n",
    "                url: 'https://sentiment-analysis40.p.rapidapi.com/api/sentiment',\n",
    "                method: 'POST',\n",
    "                headers: {\n",
    "                    'content-type': 'application/json',\n",
    "                    'X-RapidAPI-Key': '48e23c6bf3msh9a6baf3e68d9a4ep14546ajsn1a39e98c4ad5',\n",
    "                    'X-RapidAPI-Host': 'sentiment-analysis40.p.rapidapi.com'\n",
    "                },\n",
    "                processData: false,\n",
    "                data: JSON.stringify({\n",
    "                    \"language\": \"en\",\n",
    "                    \"text\": text\n",
    "                })\n",
    "            };\n",
    "\n",
    "            // Send the AJAX request\n",
    "            $.ajax(settings)\n",
    "                .done(function (response) {\n",
    "                    console.log(response);\n",
    "                    // Extract relevant information from the JSON response\n",
    "                    const outputDiv = document.getElementById(\"output\");\n",
    "\n",
    "                    // Check if the response contains the \"result\" object\n",
    "                    if (response && response.result) {\n",
    "                        const sentimentLabel = response.result.label;\n",
    "                        const sentimentScore = response.result.score;\n",
    "                        outputDiv.textContent = \"Sentiment Label: \" + sentimentLabel + \"\\nSentiment Score: \" + sentimentScore;\n",
    "                    } else {\n",
    "                        outputDiv.textContent = \"Unable to parse the response.\";\n",
    "                    }\n",
    "                })\n",
    "                .fail(function (error) {\n",
    "                    console.error(\"Error:\", error);\n",
    "                    // Handle errors here\n",
    "                    const outputDiv = document.getElementById(\"output\");\n",
    "                    outputDiv.textContent = \"Error occurred during sentiment analysis.\";\n",
    "                });\n",
    "        }\n",
    "\n",
    "        // Get references to the input and button elements\n",
    "        const textInput = document.getElementById(\"textInput\");\n",
    "        const analyzeButton = document.getElementById(\"analyzeButton\");\n",
    "\n",
    "        // Attach a click event listener to the button\n",
    "        analyzeButton.addEventListener(\"click\", function () {\n",
    "            const userInput = textInput.value;\n",
    "            if (userInput) {\n",
    "                performSentimentAnalysis(userInput);\n",
    "            } else {\n",
    "                console.log(\"No input provided.\");\n",
    "                const outputDiv = document.getElementById(\"output\");\n",
    "                outputDiv.textContent = \"Please enter some text for sentiment analysis.\";\n",
    "            }\n",
    "        });\n",
    "    </script>\n",
    "</body>\n",
    "</html>"
   ]
  },
  {
   "cell_type": "markdown",
   "metadata": {},
   "source": [
    "# Cleaner looking Sentiment Analyzer:\n",
    "[here]({{site.baseurl}}/2023/09/07/test.html)"
   ]
  },
  {
   "cell_type": "markdown",
   "metadata": {},
   "source": [
    "# Reflection from last Review"
   ]
  },
  {
   "cell_type": "markdown",
   "metadata": {},
   "source": [
    "In our last review, me and Drew recieved feedback that we should've connected the ideas from the console back to the AP CSA course and so we both went back and added our little takeaway"
   ]
  },
  {
   "cell_type": "markdown",
   "metadata": {},
   "source": [
    "### Unit 1\n",
    "- Unit 1 is about variable defitions and data types \n",
    "- In the code that I worked on last review, the console games untilized a large majority of these \n",
    "- We used Strings, integers, Boolean, Object, Dictionaries\n",
    "- Unit 1 also talks about operator statements \n",
    "- One that I used was && which is the operator for and \n"
   ]
  },
  {
   "cell_type": "markdown",
   "metadata": {},
   "source": [
    "### Unit 2\n",
    "- Unit 2 was about object creation, instance, and storage, we used this for when we created the database in order to present our persons database \n",
    "- Unit 2 also talks about Void and non-void, we used void and non-void in all of the java programs we made and the console games especially\n",
    "- We also used the string concatenation as mentioned in Unit 2 in the console game , one noteable area being the higher or lower\n",
    "- We also used the math class and wrappers to make the logic for the console games "
   ]
  },
  {
   "cell_type": "markdown",
   "metadata": {},
   "source": [
    "### Unit 3\n",
    "- We used the boolean expressions in the console games and this was the first topic mentioned in this unit and tis helped manage and create the logic for our games \n",
    "- We also used a bunch of conditional statements especially in higher and lower and tic tac toe, we used them as a way to create and maintain the logic and process of the games "
   ]
  },
  {
   "cell_type": "markdown",
   "metadata": {},
   "source": [
    "### Unit 4 \n",
    "- This unit talked about While loops, and loops in general \n",
    "- We used a bunch of loops because in order ot maintain things like the 2nd player and first player's turns until the game is over for all the console games, we had to implement loops as a way to make sure that the game is running and ends properly"
   ]
  },
  {
   "cell_type": "markdown",
   "metadata": {},
   "source": [
    "### Unit 5 \n",
    "- Unit 5 is basically enitrly about classes, we used classes to seperate and enable us to call and run the different console games and their features such as higher and lower\n",
    "- This unit also covered the things like setters and getters which we used to make the persons database"
   ]
  },
  {
   "cell_type": "markdown",
   "metadata": {},
   "source": [
    "### Unit 6 \n",
    "- This unit was about arrays \n",
    "- I used arrays for the game from the java console, tic tac and toe, in order to manage who selected which square, I used an array to simplify the logic and provide a much more organized way for the board and the game to play out "
   ]
  },
  {
   "cell_type": "markdown",
   "metadata": {},
   "source": [
    "### Unit 7 \n",
    "- This unit the use of an array list, this wasn't something that I really did and although there were implementations of it in the java console games, I didn't really mess around with it \n",
    "- This can be used for a multitude of reasons and is a way of managing complexity within a java program \n"
   ]
  },
  {
   "cell_type": "markdown",
   "metadata": {},
   "source": [
    "### Unit 8 \n",
    "- This unit was about 2 dimensional arrays, I used a bunch of 2 dimensional arrays in our java console games, especially in tic tac and toe, I used an array that was 2 dimensional to map out the different boxes in the game and find out how where each player moved and it is a way of managing complexity as well"
   ]
  },
  {
   "cell_type": "markdown",
   "metadata": {},
   "source": [
    "### Unit 9 \n",
    "- This unit is primarily about the AP Exam and review about core Java concepts and so we can't really connect this to the Java Console games yet "
   ]
  },
  {
   "cell_type": "markdown",
   "metadata": {},
   "source": [
    "### Unit 10 \n",
    "- This unit was about recursion and we used this for the menu in the java console games and was used as a way to simplify the logic and make the games much better and esier to work with."
   ]
  },
  {
   "cell_type": "markdown",
   "metadata": {},
   "source": [
    "# Pair Programming Project\n",
    "For this project me and Drew have split up the work evenly, while Drew figures out the game and getting the data and stats out of the API and implementing it into the game, I will be developing the frontend and a method to try to record the score of the user and being able to use it to customize their game better\n",
    "\n",
    "Based of the feedback that you gave us, me and Drew developed a diagram just as you have requested in your feedback.\n",
    "\n",
    "![]({{ site.baseurl }}/images/sss.png)\n",
    "\n",
    "\n",
    "Here is the current site runtime link: [here](https://drewreed2005.github.io/sss/)\n"
   ]
  }
 ],
 "metadata": {
  "kernelspec": {
   "display_name": "base",
   "language": "python",
   "name": "python3"
  },
  "language_info": {
   "codemirror_mode": {
    "name": "ipython",
    "version": 3
   },
   "file_extension": ".py",
   "mimetype": "text/x-python",
   "name": "python",
   "nbconvert_exporter": "python",
   "pygments_lexer": "ipython3",
   "version": "3.9.12"
  },
  "orig_nbformat": 4
 },
 "nbformat": 4,
 "nbformat_minor": 2
}
