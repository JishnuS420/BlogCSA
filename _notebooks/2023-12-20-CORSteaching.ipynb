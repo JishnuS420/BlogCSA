{
 "cells": [
  {
   "cell_type": "markdown",
   "metadata": {},
   "source": [
    "---\n",
    "toc: true\n",
    "comments: true\n",
    "layout: post\n",
    "title: CORS Teaching\n",
    "description: Jisbnu's part of teaching\n",
    "---"
   ]
  },
  {
   "cell_type": "markdown",
   "metadata": {},
   "source": [
    "# CORS (Everyone's Favorite!), MVC and Nginx"
   ]
  },
  {
   "cell_type": "markdown",
   "metadata": {},
   "source": [
    "![😪](https://raw.githubusercontent.com/JishnuS420/BlogCSA/main/images/CORSerror%F0%9F%98%AA.png)"
   ]
  },
  {
   "cell_type": "markdown",
   "metadata": {},
   "source": [
    "## What is CORS and what does it actually do?\n",
    "\n",
    "- CORS stands for __ __ Resource Sharing and it works to defend the the server side (APIs and the Backend)\n",
    "- When you make a request on the client side (the frontend site), your sending a request to another site which has an API, CORS works to protect sensitive data and make sure that only ___ websites and the site with the server to have access to the data.\n"
   ]
  },
  {
   "cell_type": "markdown",
   "metadata": {},
   "source": [
    "# Where can you find CORS and how can you modify it and add it to your site?"
   ]
  },
  {
   "cell_type": "markdown",
   "metadata": {},
   "source": [
    "If you go to any backend server you git cloned from Mr.Mort's [spring_portfolio](https://github.com/nighthawkcoders/spring_portfolio/blob/master/src/main/java/com/nighthawk/spring_portfolio/SecurityConfig.java), if you go ahead and navigate to `SecurityConfig.java` under `/src/main/java/com/nighthawk/spring_portfolio/` and scroll down, you see the following the code:"
   ]
  },
  {
   "cell_type": "code",
   "execution_count": null,
   "metadata": {},
   "outputs": [],
   "source": [
    ".cors(Customizer.withDefaults())\n",
    ".headers(headers -> headers\n",
    "    .addHeaderWriter(new StaticHeadersWriter(\"Access-Control-Allow-Credentials\", \"true\"))\n",
    "    .addHeaderWriter(new StaticHeadersWriter(\"Access-Control-Allow-ExposedHeaders\", \"*\", \"Authorization\"))\n",
    "    .addHeaderWriter(new StaticHeadersWriter(\"Access-Control-Allow-Headers\", \"Content-Type\", \"Authorization\", \"x-csrf-token\"))\n",
    "    .addHeaderWriter(new StaticHeadersWriter(\"Access-Control-Allow-MaxAge\", \"600\"))\n",
    "    .addHeaderWriter(new StaticHeadersWriter(\"Access-Control-Allow-Methods\", \"POST\", \"GET\", \"OPTIONS\", \"HEAD\"))\n",
    "    .addHeaderWriter(new StaticHeadersWriter(\"Access-Control-Allow-Origin\", \"http://link1\", \"http://link2\", \"http://link3\", \"http://link4\"))"
   ]
  },
  {
   "cell_type": "markdown",
   "metadata": {},
   "source": [
    "What this is showing is the different things that a request must include in order for a request from a site to go through"
   ]
  },
  {
   "cell_type": "markdown",
   "metadata": {},
   "source": [
    "`.addHeaderWriter(new StaticHeadersWriter(\"Access-Control-Allow-Credentials\", \"true\"))`:\n",
    "\n",
    "- This header indicates whether the ____ should include credentials (like cookies, HTTP authentication, and client-side SSL certificates) in the request\n",
    "- This is typically used when the server needs to send and receive cookies on the requested domain.\n",
    "\n",
    "`.addHeaderWriter(new StaticHeadersWriter(\"Access-Control-Allow-ExposedHeaders\", \"*\", \"Authorization\"))`:\n",
    "\n",
    "- This header, enables you to specify ____ headers (\"*\") and grants the browser to expose headers like \"Authorization\" to the client.\n",
    "\n",
    "`.addHeaderWriter(new StaticHeadersWriter(\"Access-Control-Allow-Headers\", \"Content-Type\", \"Authorization\", \"x-csrf-token\"))`:\n",
    "\n",
    "- This line is listing the headers that the client is allowed to use in the actual request\n",
    "\n",
    "`.addHeaderWriter(new StaticHeadersWriter(\"Access-Control-Allow-MaxAge\", \"600\"))`:\n",
    "\n",
    "- This line specifies that the results of a ___ request can be cached for in this case, 600 seconds\n",
    "- What this does in other words is before the actual request is received, a small request is typically sent and this request is saved for 600 seconds allowing for it so when similar calls are made, the result of the initial call is reused, this improves the performance and latency.\n",
    "\n",
    "`.addHeaderWriter(new StaticHeadersWriter(\"Access-Control-Allow-Methods\", \"POST\", \"GET\", \"OPTIONS\", \"HEAD\"))`:\n",
    "\n",
    "- This line just lists the different HTTP methods that are allowed when making a request\n",
    "\n",
    "`.addHeaderWriter(new StaticHeadersWriter(\"Access-Control-Allow-Origin\", \"http://link1\", \"http://link2\", \"http://link3\", \"http://link4\"))`:\n",
    "\n",
    "- This line simply specifies what links are allowed to make requests to the server"
   ]
  },
  {
   "cell_type": "markdown",
   "metadata": {},
   "source": [
    "## Frontend Side of CORS\n",
    "- Based on the headers you assigned in the backend, your frontend fetch request must match what you defined"
   ]
  },
  {
   "cell_type": "markdown",
   "metadata": {},
   "source": [
    "![](https://raw.githubusercontent.com/JishnuS420/BlogCSA/main/images/FrontendCORS.png)"
   ]
  },
  {
   "cell_type": "markdown",
   "metadata": {},
   "source": [
    "## Some key reminders:\n",
    "- When working with an API on the backend, in the areas where you want to protect the data, don't forget to do `import org.springframework.web.bind.annotation.CrossOrigin;` and include `@CrossOrigin` before the actual code "
   ]
  },
  {
   "cell_type": "markdown",
   "metadata": {},
   "source": [
    "## MVC and Nginx\n",
    "\n",
    "### MVC\n",
    "\n",
    "- MVC stands for ___ View Controller, and its purpose is to build user interfaces and web applications and divides the application into three interconnected components: Model, View, and Controller\n",
    "\n",
    "Model:\n",
    "- The model is responsible for managing data and the logic and rules for manipulating the data\n",
    "- It is ___ from the user interface and works with the View and Controller\n",
    "\n",
    "View: \n",
    "- The view is the part that works and is responsible for receiving the user input and presenting the data to the user\n",
    "- It receives ___ from the Model and sends the user input to the Controller\n",
    "\n",
    "Controller:\n",
    "- The controller functions to update the Model and sends the updates to the View \n",
    "- It makes and handles the decisions that the user makes, updating the Model and View to adapt to it"
   ]
  },
  {
   "cell_type": "markdown",
   "metadata": {},
   "source": [
    "A great example of the MVC system would be the PersonAPI on the [spring_portfolio](https://github.com/nighthawkcoders/spring_portfolio/tree/master/src/main/java/com/nighthawk/spring_portfolio/mvc/person), where the `Person.java` is the Model, `PersonDetailsService.java` is the View, and the `PersonAPIController.java` is the controller"
   ]
  },
  {
   "cell_type": "markdown",
   "metadata": {},
   "source": [
    "### MVC functions:\n",
    "- MVC serves in order to make the code separated into different roles and parts allowing for it to be easily ___ and easily reusable. It also provides great extendability and makes it really easy to test the code since each part is essentially independent from each other."
   ]
  },
  {
   "cell_type": "markdown",
   "metadata": {},
   "source": [
    "### Nginx\n",
    "\n",
    "Nginx is a web server and reverse proxy server that has a wide variety of functions that enable for better performance, security, and connections between a client and the server. Some its most important features include:\n",
    "\n",
    "1. Web Server \n",
    " - Nginx is able to handle incoming HTTP and HTTP requests from the client side with high performance, and can enable for the the direct serving of ____ content to the client side\n",
    " - This enables for really efficient delivery of static resources to the web applications\n",
    "\n",
    "2. Reverse Proxy \n",
    " - Nginx is a reverse proxy server as well and what this means is it takes requests from the frontend and connects it with the backend server and takes the response from the server and sends it back to the frontend \n",
    " - This serves to shield the backend from being exposed to the internet and also enables many frontend clients to ___ with the backend\n",
    "\n",
    "3. Balancing Loads\n",
    " - Nginx also helps to distribute the incoming requests and traffic equally among the backend servers and as a result, prevents the backend from being overwhelmed\n",
    " - As a result, this significantly helps the performance and the maintenance of the backend server and enables for efficient communications \n",
    "\n",
    "4. SSL/TLS Termination:\n",
    " - Nginx also can __ and __ the incoming data, from the frontend, sending it to the backend server\n",
    " - This functions as a way to both ensure secure communications and also serves as a process to make the backend focus on running ___ instead of attempting to understand the request"
   ]
  }
 ],
 "metadata": {
  "kernelspec": {
   "display_name": "Java",
   "language": "java",
   "name": "java"
  },
  "language_info": {
   "name": "java"
  }
 },
 "nbformat": 4,
 "nbformat_minor": 2
}
