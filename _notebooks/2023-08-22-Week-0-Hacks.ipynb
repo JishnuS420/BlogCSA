{
 "cells": [
  {
   "cell_type": "markdown",
   "metadata": {},
   "source": [
    "---\n",
    "toc: true\n",
    "comments: true\n",
    "layout: post\n",
    "title: Week 0 Hacks\n",
    "description: Things we did and learnt during week 0\n",
    "courses: {csa: {week: 0} }\n",
    "type: tangibles\n",
    "---"
   ]
  },
  {
   "cell_type": "markdown",
   "metadata": {},
   "source": [
    "\n",
    "# Loving my Tools:\n",
    "## Challenge \n",
    "One of the biggest problems that I struggled with this time with installation was the makefile error and working with the mort pages. Using fast pages made me realize the importance of how convenient and easy it was to use. One of the biggest problems that I came across was trying to change the theme and stuff.\n",
    "## Success\n",
    "In order to solve this issue, I used debugging tools like ChatGPT and inspect element whenever I ran into a error and sometimes I would turn to Drew and my table if I needed help with some error that keeps repeating and I would also use the internet to search things up if I needed to. \n",
    "# Installation Hacks\n",
    "## Take note and describe the type of shell commands that you are using through Terminal in this installation procedure. wsl, cd, git, apt, brew, …\n",
    "\n",
    "- The wsl command is used to interact with and manage Linux distributions running within WSL. You can use it to launch a Linux terminal, manage distributions, and perform various tasks within the Linux environment.\n",
    "\n",
    "- cd is a command used to change the current directory in a terminal or command prompt. It's used to navigate through the file system by moving from one directory to another\n",
    "\n",
    "- Git is a widely used version control system that helps developers manage and track changes in their source code. The git command is used to interact with Git repositories. You can use it to initialize a repository, clone existing repositories, create branches, commit changes, and collaborate with others on code projects.\n",
    "\n",
    "- apt (Advanced Package Tool) is a package management system used in Debian-based Linux distributions like Ubuntu. It's used to install, update, and manage software packages from online repositories. \n",
    "\n",
    "- brew is short for Homebrew, which is a package manager for macOS and Linux. It's primarily used to install, manage, and update software packages that are not included in the default operating system distribution\n",
    " \n",
    "### In the Development process, developers use Version control. Annotate in notes what you have learned about Version Control while doing this setup process. Where are the files from GitHub placed on your local machine. How do you navigate to those files. Where are the files placed in the GitHub Cloud, how do you navigate to those files. How would you update your Template or Fork of student repository if teacher wanted you to pick up an update?\n",
    "\n",
    "- Version control is tracking changes to code and documents over time. This is how coders avoid losing data or writing over each others’ work. Dependency management is a cornerstone of version control that is very present throughout the tools setup process.\n",
    "\n",
    "- GitHub files are stored in my VSCode directory under their own subdirectories. I’m able to navigate those files by looking at what I have in my VSCode directory and selecting (by name) which GitHub project I’d like to work on with code . , I could use ls to list out all of the repositories in the VSCode directory.\n",
    "\n",
    "- On the GitHub servers, you can find files by searching for them if you have their name of the username of the person who created it\n",
    "\n",
    "- When you’re viewing GitHub Pages on a localhost machine, you’re seeing the present, working state of the site as it is in VSCode. Only you can see it, since it’s local only to your device (0.0.0.0:4200/BlogCSA/). The GitHub Pages URL, on the other hand, specifically sees what has been committed and synced to the GitHub Pages repository on the GitHub servers (jishnus420.github.io/BlogCSA).\n",
    "\n",
    "# Linux Shell and Bash Hacks"
   ]
  }
 ],
 "metadata": {
  "kernelspec": {
   "display_name": "Python 3",
   "language": "python",
   "name": "python3"
  },
  "language_info": {
   "codemirror_mode": {
    "name": "ipython",
    "version": 3
   },
   "file_extension": ".py",
   "mimetype": "text/x-python",
   "name": "python",
   "nbconvert_exporter": "python",
   "pygments_lexer": "ipython3",
   "version": "3.8.10"
  },
  "orig_nbformat": 4
 },
 "nbformat": 4,
 "nbformat_minor": 2
}
