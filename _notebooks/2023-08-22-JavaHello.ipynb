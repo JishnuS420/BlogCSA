{
 "cells": [
  {
   "cell_type": "code",
   "execution_count": 1,
   "metadata": {
    "vscode": {
     "languageId": "java"
    }
   },
   "outputs": [
    {
     "name": "stdout",
     "output_type": "stream",
     "text": [
      "Hello World!\n"
     ]
    }
   ],
   "source": [
    "// Define Static Method within a Class\n",
    "public class HelloStatic {\n",
    "    // Java standard runtime entry point\n",
    "    public static void main(String[] args) {    \n",
    "        System.out.println(\"Hello World!\");\n",
    "    }\n",
    "}\n",
    "// A method call allows us to execute code that is wrapped in Class\n",
    "HelloStatic.main(null);   // Class prefix allows reference of Static Method"
   ]
  },
  {
   "cell_type": "code",
   "execution_count": 2,
   "metadata": {
    "vscode": {
     "languageId": "java"
    }
   },
   "outputs": [
    {
     "name": "stdout",
     "output_type": "stream",
     "text": [
      "Hello, World!\n"
     ]
    }
   ],
   "source": [
    "// Define Class with Constructor returning Object\n",
    "public class HelloObject {\n",
    "    private String hello;   // instance attribute or variable\n",
    "    public HelloObject() {  // constructor\n",
    "        hello = \"Hello, World!\";\n",
    "    }\n",
    "    public String getHello() {  // getter, returns value from inside the object\n",
    "        return this.hello;  // return String from object\n",
    "    }\n",
    "    public static void main(String[] args) {    \n",
    "        HelloObject ho = new HelloObject(); // Instance of Class (ho) is an Object via \"new HelloObject()\"\n",
    "        System.out.println(ho.getHello()); // Object allows reference to public methods and data\n",
    "    }\n",
    "}\n",
    "// IJava activation\n",
    "HelloObject.main(null);"
   ]
  },
  {
   "cell_type": "code",
   "execution_count": 3,
   "metadata": {
    "vscode": {
     "languageId": "java"
    }
   },
   "outputs": [
    {
     "name": "stdout",
     "output_type": "stream",
     "text": [
      "Hello, World!\n",
      "Hello, Nighthawk Coding Society!\n"
     ]
    }
   ],
   "source": [
    "// Define Class\n",
    "public class HelloDynamic { // name the first letter of class as capitalized, note camel case\n",
    "    // instance variable have access modifier (private is most common), data type, and name\n",
    "    private String hello;\n",
    "    // constructor signature 1, public and zero arguments, constructors do not have return type\n",
    "    public HelloDynamic() {  // 0 argument constructor\n",
    "        this.setHello(\"Hello, World!\");  // using setter with static string\n",
    "    }\n",
    "    // constructor signature, public and one argument\n",
    "    public HelloDynamic(String hello) { // 1 argument constructor\n",
    "        this.setHello(hello);   // using setter with local variable passed into constructor\n",
    "    }\n",
    "    // setter/mutator, setter have void return type and a parameter\n",
    "    public void setHello(String hello) { // setter\n",
    "        this.hello = hello;     // instance variable on the left, local variable on the right\n",
    "    }\n",
    "    // getter/accessor, getter used to return private instance variable (encapsulated), return type is String\n",
    "    public String getHello() {  // getter\n",
    "        return this.hello;\n",
    "    }\n",
    "    // public static void main(String[] args) is signature for main/drivers/tester method\n",
    "    // a driver/tester method is singular or called a class method, it is never part of an object\n",
    "    public static void main(String[] args) {  \n",
    "        HelloDynamic hd1 = new HelloDynamic(); // no argument constructor\n",
    "        HelloDynamic hd2 = new HelloDynamic(\"Hello, Nighthawk Coding Society!\"); // one argument constructor\n",
    "        System.out.println(hd1.getHello()); // accessing getter\n",
    "        System.out.println(hd2.getHello()); \n",
    "    }\n",
    "}\n",
    "// IJava activation\n",
    "HelloDynamic.main(null);"
   ]
  }
 ],
 "metadata": {
  "kernelspec": {
   "display_name": "Java",
   "language": "java",
   "name": "java"
  },
  "language_info": {
   "codemirror_mode": "java",
   "file_extension": ".jshell",
   "mimetype": "text/x-java-source",
   "name": "Java",
   "pygments_lexer": "java",
   "version": "11.0.20+8-post-Ubuntu-1ubuntu120.04"
  },
  "orig_nbformat": 4
 },
 "nbformat": 4,
 "nbformat_minor": 2
}
