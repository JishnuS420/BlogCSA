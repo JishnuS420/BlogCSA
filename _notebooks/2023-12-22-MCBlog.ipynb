{
 "cells": [
  {
   "cell_type": "markdown",
   "metadata": {},
   "source": [
    "---\n",
    "toc: true\n",
    "comments: true\n",
    "layout: post\n",
    "title: 2015 MCQ Blog\n",
    "description: My attempt at the 2015 Collegeboard MC Questions\n",
    "---"
   ]
  },
  {
   "cell_type": "markdown",
   "metadata": {},
   "source": []
  },
  {
   "cell_type": "markdown",
   "metadata": {},
   "source": [
    "# Challenges:\n",
    "- Some challenges that I ran into while taking this test was using my time efficiently, I was spending more time on a question that was hard just to get it wrong and I need to be able to solve tougher questions much faster and easier\n",
    "- Another big struggle is that I would lose my train of thought and had to sometimes completely restart, this was a problem especially for the harder questions I would end up spending much more time on the questions than I originally wanted to. I did end up grabbing a paper towards the end of the test though to help me track down and note the steps I had taken"
   ]
  }
 ],
 "metadata": {
  "kernelspec": {
   "display_name": "Java",
   "language": "java",
   "name": "java"
  },
  "language_info": {
   "name": "java"
  }
 },
 "nbformat": 4,
 "nbformat_minor": 2
}
