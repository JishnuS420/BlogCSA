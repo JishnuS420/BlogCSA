{
 "cells": [
  {
   "cell_type": "markdown",
   "metadata": {},
   "source": [
    "---\n",
    "toc: true\n",
    "comments: true\n",
    "layout: post\n",
    "title: 2015 MCQ Blog\n",
    "description: My attempt at the 2015 Collegeboard MC Questions\n",
    "---"
   ]
  },
  {
   "cell_type": "markdown",
   "metadata": {},
   "source": [
    "# Final Score:\n",
    "![](https://raw.githubusercontent.com/JishnuS420/BlogCSA/main/images/2015MCScore.png)\n",
    "\n",
    "This score is worse than my score of 34/39 on the last test we had but I felt some improvements"
   ]
  },
  {
   "cell_type": "markdown",
   "metadata": {},
   "source": [
    "# Challenges:\n",
    "- Some challenges that I ran into while taking this test was using my time efficiently, I was spending more time on a question that was hard just to get it wrong and I need to be able to solve tougher questions much faster and easier since spending time just to get a question wrong can be a big waster of time however, it is good that I am taking time on harder questions at the same time.\n",
    "- Another big struggle is that I would lose my train of thought and had to sometimes completely restart, this was a problem especially for the harder questions I would end up spending much more time on the questions than I originally wanted to. I did end up grabbing a paper towards the end of the test though to help me track down and note the steps I had taken"
   ]
  },
  {
   "cell_type": "markdown",
   "metadata": {},
   "source": [
    "![](https://raw.githubusercontent.com/JishnuS420/BlogCSA/main/images/2015WrongQuestions.png)"
   ]
  },
  {
   "cell_type": "markdown",
   "metadata": {},
   "source": [
    "> As you can see in the image above, I did take the time to understand and get the tougher questions right but still got them worng so I need to improve on my accuracy, the time Im taking for each question is good progress though compared with the previous test which had only about half the questions above 1 minute but this time, I got at least like 4/5 of the questions above 1 minute so really good progress in that area\n",
    "\n",
    "Here are the topic comparisons from last test and this test, for most the part its the same but I improved in some areas and looks like I need to work more with 2D Arrays, it seems to be the topic that I am mostly struggling with:\n",
    "\n",
    "**2014 MC Concepts:**\n",
    "![](https://raw.githubusercontent.com/JishnuS420/BlogCSA/main/images/ContentKnowledge2014.png)\n",
    "\n",
    "**2015 MC Concepts:**\n",
    "![](https://raw.githubusercontent.com/JishnuS420/BlogCSA/main/images/ContentKnowledge.png)"
   ]
  },
  {
   "cell_type": "markdown",
   "metadata": {},
   "source": [
    "# Learnings \n",
    "- Some things that I learned and improve from compared to the last college board MC was the recursion and inheritance topics, this was something that was coincidentally something that I taught in the student teaching and it kind of made me realize how much the student teachings actually help with mastering a concept and topic \n",
    "- Another thing that I learned that helped me this test compared to the last test was that I used a scratch piece of paper to help formulate and plan out steps for different questions that I came across in the test. \n",
    "- Another key learning that I took away from this test was the terminology and wording used by the college board tries ot trick you and purposefully tries to make you select the wrong answer and you need to take your time understanding and making sure to double check every question and answer choice and understand it."
   ]
  },
  {
   "cell_type": "markdown",
   "metadata": {},
   "source": [
    "# Some plans for Improving\n",
    "- Both of these tests, I worked on individually and I am thinking about working with another student, especially someone who might be more experienced in coding and see how they process and understand the question and see if I could learn a thing or two from them and apply it for future tests. \n",
    "- Also want to work more with 2D arrays and loops that include arrays since these are the questions that I am struggling thw most with and working with them might improve my understanding in these topics. \n",
    "- I also want to maybe time myself next time and understand how I am doing in terms of time and using my time efficiently on the questions and optimizing the time that I take for each question."
   ]
  }
 ],
 "metadata": {
  "kernelspec": {
   "display_name": "Java",
   "language": "java",
   "name": "java"
  },
  "language_info": {
   "name": "java"
  }
 },
 "nbformat": 4,
 "nbformat_minor": 2
}
