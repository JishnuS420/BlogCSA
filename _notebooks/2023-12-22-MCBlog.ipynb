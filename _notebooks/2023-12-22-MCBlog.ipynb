{
 "cells": [
  {
   "cell_type": "markdown",
   "metadata": {},
   "source": [
    "---\n",
    "toc: true\n",
    "comments: true\n",
    "layout: post\n",
    "title: 2015 MCQ Blog\n",
    "description: My attempt at the 2015 Collegeboard MC Questions\n",
    "---"
   ]
  },
  {
   "cell_type": "markdown",
   "metadata": {},
   "source": [
    "# Final Score:"
   ]
  },
  {
   "cell_type": "markdown",
   "metadata": {},
   "source": [
    "# Challenges:\n",
    "- Some challenges that I ran into while taking this test was using my time efficiently, I was spending more time on a question that was hard just to get it wrong and I need to be able to solve tougher questions much faster and easier since spending time just to get a question wrong can be a big waster of time however, it is good that I am taking time on harder questions at the same time.\n",
    "- Another big struggle is that I would lose my train of thought and had to sometimes completely restart, this was a problem especially for the harder questions I would end up spending much more time on the questions than I originally wanted to. I did end up grabbing a paper towards the end of the test though to help me track down and note the steps I had taken"
   ]
  },
  {
   "cell_type": "markdown",
   "metadata": {},
   "source": [
    "![](https://raw.githubusercontent.com/JishnuS420/BlogCSA/main/images/2015WrongQuestions.png)"
   ]
  },
  {
   "cell_type": "markdown",
   "metadata": {},
   "source": [
    "> As you can see in the image above, I did take the time to understand and get the tougher questions right but still got them worng so I need to improve on my accuracy, the time Im taking for each question is good progress though compared with the previous test which had only about half the questions above 1 minute but this time, I got at least like 4/5 of the questions above 1 minute so really good progress in that area"
   ]
  }
 ],
 "metadata": {
  "kernelspec": {
   "display_name": "Java",
   "language": "java",
   "name": "java"
  },
  "language_info": {
   "name": "java"
  }
 },
 "nbformat": 4,
 "nbformat_minor": 2
}
