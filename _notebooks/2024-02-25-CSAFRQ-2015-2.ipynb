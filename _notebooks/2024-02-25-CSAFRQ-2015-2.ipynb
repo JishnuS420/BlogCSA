{
 "cells": [
  {
   "cell_type": "markdown",
   "metadata": {},
   "source": [
    "---\n",
    "layout: post\n",
    "title: APCSA 2015 Question 2\n",
    "courses: { csa: {week: 24} }\n",
    "categories: []\n",
    "type: hacks\n",
    "toc: true\n",
    "comments: true\n",
    "---"
   ]
  },
  {
   "cell_type": "markdown",
   "metadata": {},
   "source": [
    "# Question 2:\n",
    "Consider a guessing game in which a player tries to guess a hidden word. The hidden word contains only capital letters and has a length known to the player. A guess contains only capital letters and has the same length as the hidden word. After a guess is made, the player is given a hint that is based on a comparison between the hidden word and the guess. Each position in the hint contains a character that corresponds to the letter in the same position in the guess. The following rules determine the characters that appear in the hint.\n",
    "\n",
    "The HiddenWord class will be used to represent the hidden word in the game. The hidden word is passed to the constructor. The class contains a method, getHint, that takes a guess and produces a hint. For example, suppose the variable puzzle is declared as follows. HiddenWord puzzle = new HiddenWord(\"HARPS\"); The following table shows several guesses and the hints that would be produced.\n",
    "\n",
    "Write the complete HiddenWord class, including any necessary instance variables, its constructor, and the method, getHint, described above. You may assume that the length of the guess is the same as the length of the hidden word.\n",
    "\n",
    "## Question Type: \n",
    "- Classes\n",
    "\n",
    "## Overall Objectives:\n",
    "Create a wordle like game that has the following:\n",
    "- A main `HiddenWord` class\n",
    "- Create the variables and constructors tha will allow for the class to work \n",
    "- Create a method called `getHint` that uses the rules given above\n"
   ]
  },
  {
   "cell_type": "code",
   "execution_count": 20,
   "metadata": {},
   "outputs": [
    {
     "name": "stdout",
     "output_type": "stream",
     "text": [
      "Guess: AAAAA, Output: +A+++\n",
      "Guess: HELLO, Output: H****\n",
      "Guess: HEART, Output: H*++*\n",
      "Guess: HARPS, Output: HARPS\n"
     ]
    }
   ],
   "source": [
    "public class HiddenWord { // A main `HiddenWord` class\n",
    "    private final String hiddenWord = \"HARPS\"; // Create the variables and constructors tha will allow for the class to work \n",
    "\n",
    "    public String getHint(String guess) { // Create a method called `getHint` that uses the rules given above\n",
    "        StringBuilder hint = new StringBuilder();\n",
    "\n",
    "        for (int i = 0; i < hiddenWord.length(); i++) {\n",
    "            char guessChar = guess.charAt(i);\n",
    "            char hiddenChar = hiddenWord.charAt(i);\n",
    "\n",
    "            if (guessChar == hiddenChar) {\n",
    "                hint.append(hiddenChar); // Correct letter at correct position\n",
    "            } else if (hiddenWord.indexOf(guessChar) != -1) {\n",
    "                hint.append(\"+\"); // Correct letter but at the wrong position\n",
    "            } else {\n",
    "                hint.append(\"*\"); // Incorrect letter\n",
    "            }\n",
    "        }\n",
    "\n",
    "        return hint.toString();\n",
    "    }\n",
    "\n",
    "    public static void main(String[] args) { // Test data\n",
    "        HiddenWord puzzle = new HiddenWord();\n",
    "\n",
    "        System.out.println(\"Guess: AAAAA, Output: \" + puzzle.getHint(\"AAAAA\")); // Guesses\n",
    "        System.out.println(\"Guess: HELLO, Output: \" + puzzle.getHint(\"HELLO\"));\n",
    "        System.out.println(\"Guess: HEART, Output: \" + puzzle.getHint(\"HEART\"));\n",
    "        System.out.println(\"Guess: HARPS, Output: \" + puzzle.getHint(\"HARPS\"));\n",
    "    }\n",
    "}\n",
    "\n",
    "HiddenWord.main(null)"
   ]
  },
  {
   "cell_type": "markdown",
   "metadata": {},
   "source": [
    "## Reflection:\n",
    "- This frq was honestly really fun to work with because I felt that it was kind of fun seeing and creating the algorithm that is used for wordle\n",
    "- This frq was pretty easy to understand, you just use the stringbuilder and a loop to append and create the outputs and overall it was really more of a fun frq and didn't feel like I was doing a college board frq"
   ]
  }
 ],
 "metadata": {
  "kernelspec": {
   "display_name": "Java",
   "language": "java",
   "name": "java"
  },
  "language_info": {
   "name": "java"
  }
 },
 "nbformat": 4,
 "nbformat_minor": 2
}
