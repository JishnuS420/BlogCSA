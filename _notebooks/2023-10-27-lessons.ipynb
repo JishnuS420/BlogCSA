{
 "cells": [
  {
   "cell_type": "markdown",
   "metadata": {},
   "source": [
    "# 9.5 - Creating References Using Inheritance Hierarchies"
   ]
  },
  {
   "cell_type": "markdown",
   "metadata": {},
   "source": [
    "- Inheritance Hierarchies is the idea that if we have a superclass (A) that then has a subclass (B) and that subclass then has another subclass (C), then subclass C is also a subclass of A.\n",
    "\n",
    "Here is a little diagram to display this:"
   ]
  },
  {
   "cell_type": "markdown",
   "metadata": {},
   "source": []
  }
 ],
 "metadata": {
  "kernelspec": {
   "display_name": "Java",
   "language": "java",
   "name": "java"
  },
  "language_info": {
   "name": "java"
  }
 },
 "nbformat": 4,
 "nbformat_minor": 2
}
