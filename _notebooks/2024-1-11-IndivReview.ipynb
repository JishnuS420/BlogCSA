{
 "cells": [
  {
   "cell_type": "markdown",
   "metadata": {},
   "source": [
    "---\n",
    "toc: true\n",
    "comments: true\n",
    "layout: post\n",
    "title: Start of the year review\n",
    "description: Individual Review\n",
    "---"
   ]
  },
  {
   "cell_type": "markdown",
   "metadata": {},
   "source": [
    "- Blog showing your and key assets and projects\n",
    "- College Board prep and assets\n",
    "- Blog timebox / Key Issues and other organization showing how you know where you have been and where you are going \n",
    "- GitHub commits for first half of the year\n",
    "- Something you are passionate about in the upcoming project\n",
    "- Anything else you want to talk about"
   ]
  }
 ],
 "metadata": {
  "language_info": {
   "name": "python"
  }
 },
 "nbformat": 4,
 "nbformat_minor": 2
}
