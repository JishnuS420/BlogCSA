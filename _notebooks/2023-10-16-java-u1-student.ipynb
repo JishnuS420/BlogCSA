{
 "cells": [
  {
   "cell_type": "markdown",
   "metadata": {},
   "source": [
    "---\n",
    "comments: true\n",
    "layout: post\n",
    "title: U1 Primitive Data Types\n",
    "description: Student Lesson\n",
    "courses: { csa: {week: 7} }\n",
    "type: ccc\n",
    "---"
   ]
  },
  {
   "cell_type": "markdown",
   "metadata": {},
   "source": [
    "## Is Java a loosely or strongly Typed computer language?\n"
   ]
  }
 ],
 "metadata": {
  "language_info": {
   "name": "python"
  },
  "orig_nbformat": 4
 },
 "nbformat": 4,
 "nbformat_minor": 2
}
