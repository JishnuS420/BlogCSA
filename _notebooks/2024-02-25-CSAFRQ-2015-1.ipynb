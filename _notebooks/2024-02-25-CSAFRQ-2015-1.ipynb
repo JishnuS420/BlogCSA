{
 "cells": [
  {
   "cell_type": "markdown",
   "metadata": {},
   "source": [
    "---\n",
    "layout: post\n",
    "title: APCSA 2015 Question 1\n",
    "courses: { csa: {week: 24} }\n",
    "categories: []\n",
    "type: hacks\n",
    "toc: true\n",
    "comments: true\n",
    "---"
   ]
  },
  {
   "cell_type": "markdown",
   "metadata": {},
   "source": [
    "# Question 1:\n",
    "This question involves reasoning about one-dimensional and two-dimensional arrays of integers. You will write three static methods, all of which are in a single enclosing class, named DiverseArray (not shown). The first method returns the sum of the values of a one-dimensional array; the second method returns an array that represents the sums of the rows of a two-dimensional array; and the third method analyzes row sums\n",
    "\n",
    "## Part A:\n",
    "Write a static method arraySum that calculates and returns the sum of the entries in a specified one-dimensional array. The following example shows an array arr1 and the value returned by a call to arraySum.\n",
    "\n",
    "## Part B:\n",
    "Write a static method rowSums that calculates the sums of each of the rows in a given two-dimensional array and returns these sums in a one-dimensional array. The method has one parameter, a two-dimensional array arr2D of int values. The array is in row-major order: arr2D[r][c] is the entry t row r and column c. The method returns a one-dimensional array with one entry for each row of arr2D such that each entry is the sum of the corresponding row in arr2D. As a reminder, each row of a  two-dimensional array is a one-dimensional array. For example, if mat1 is the array represented by the following table, the call rowSums(mat1) returns the array {16, 32, 28, 20}. \n",
    "\n",
    "## Part C:\n",
    "A two-dimensional array is diverse if no two of its rows have entries that sum to the same value. In the following examples, the array mat1 is diverse because each row sum is different, but the array mat2 is not diverse because the first and last rows have the same sum.\n",
    "\n",
    "Write a static method isDiverse that determines whether or not a given two-dimensional array is diverse. The method has one parameter: a two-dimensional array arr2D of int values. The method should return true if all the row sums in the given array are unique; otherwise, it should return false. In the arrays shown above, the call isDiverse(mat1) returns true and the call isDiverse(mat2) returns false. \n",
    "\n",
    "## Question Type: \n",
    "- 2D arrays \n",
    "\n",
    "## Overall Objective:\n",
    "Create a DiverseArray class that has all of the following:\n",
    "- A static method `arraySum` that can calculate the sum of the entries and returns the values \n",
    "- A static method `rowSums` that calculates the sum of each row in a 2D array and then returns the sums as a 1D array\n",
    "- A static method `isDiverse` that determines if a 2D array is diverse (meaning it has different sums for each row)\n",
    "- Tester data that shows both of the possible outcomes"
   ]
  },
  {
   "cell_type": "code",
   "execution_count": 32,
   "metadata": {
    "vscode": {
     "languageId": "java"
    }
   },
   "outputs": [
    {
     "name": "stdout",
     "output_type": "stream",
     "text": [
      "If the array is diverse: \n",
      "\n",
      "10\n",
      "26\n",
      "42\n",
      "58\n",
      "true\n",
      "\n",
      "If the array isn't diverse: \n",
      "\n",
      "10\n",
      "26\n",
      "42\n",
      "10\n",
      "false\n"
     ]
    }
   ],
   "source": [
    "public class DiverseArray {\n",
    "\n",
    "    public static int arraySum(int[] arr){ // A (Create a static method `arraySum` that can calculate the sum of the entries and returns the values)\n",
    "        int sum = 0;\n",
    "        for (int num : arr ){\n",
    "            sum += num;\n",
    "        }\n",
    "\n",
    "        System.out.println(sum);\n",
    "        return sum;\n",
    "    }\n",
    "\n",
    "    public static int[] rowSums(int[][] arr2D) { // B (Create a static method `rowSums` that calculates the sum of each row in a 2D array and then returns the sums as a 1D array)\n",
    "        int[] rowSum = new int[arr2D.length];\n",
    "        \n",
    "        for (int i = 0; i < arr2D.length; i++){\n",
    "            rowSum[i] = arraySum(arr2D[i]); // recalling arraySum to print sums by row\n",
    "        }\n",
    "        return rowSum;\n",
    "    }\n",
    "\n",
    "    public static boolean isDiverse(int[][] arr2D) {  // C (Create a static method `isDiverse` that determines if a 2D array is diverse (meaning it has different sums for each row)\n",
    "        int[] sums = rowSums(arr2D);\n",
    "        for (int i = 0; i < sums.length; i++){\n",
    "            for (int j = i + 1; j < sums.length; j++){\n",
    "                if (sums[i] == sums[j]){  // iterates through each of the sums calculated and compares them with each other to determine if they are the same or different\n",
    "                    return false;\n",
    "                }\n",
    "            }\n",
    "        }\n",
    "\n",
    "        return true;\n",
    "    }\n",
    "\n",
    "    public static void main(String[] args) { // Data for testing\n",
    "        int[][] arr1 = { // Diverse array (true) \n",
    "            {1, 2, 3, 4},\n",
    "            {5, 6, 7, 8},\n",
    "            {9, 10, 11, 12},\n",
    "            {13, 14, 15, 16}\n",
    "        };\n",
    "        \n",
    "        int[][] arr2 = { // Not a diverse array (false)\n",
    "            {1, 2, 3, 4},\n",
    "            {5, 6, 7, 8},\n",
    "            {9, 10, 11, 12},\n",
    "            {1, 2, 3, 4}\n",
    "        };\n",
    "        \n",
    "        System.out.println(\"If the array is diverse: \\n\");\n",
    "        System.out.println(isDiverse(arr1) + \"\\n\");\n",
    "        System.out.println(\"If the array isn't diverse: \\n\");\n",
    "        System.out.println(isDiverse(arr2));\n",
    "    }\n",
    "}\n",
    "\n",
    "DiverseArray.main(null);"
   ]
  },
  {
   "cell_type": "markdown",
   "metadata": {},
   "source": [
    "## Reflection:\n",
    "- This frq was honestly pretty easy to do and in my opinion the easiest to understand, it was pretty straightforward and you just had to create a function that added up the sums of the array and then use that function in another function that takes all the rows and prints all the sums and then finally another function that iterates through it all one last time and makes sure that the array is diverse or not"
   ]
  },
  {
   "cell_type": "markdown",
   "metadata": {},
   "source": [
    "<script src=\"https://utteranc.es/client.js\"\n",
    "        repo=\"JishnuS420/BlogCSA\"\n",
    "        issue-term=\"pathname\"\n",
    "        theme=\"github-dark\"\n",
    "        crossorigin=\"anonymous\"\n",
    "        async>\n",
    "</script>"
   ]
  }
 ],
 "metadata": {
  "kernelspec": {
   "display_name": "Java",
   "language": "java",
   "name": "java"
  },
  "language_info": {
   "codemirror_mode": "java",
   "file_extension": ".jshell",
   "mimetype": "text/x-java-source",
   "name": "Java",
   "pygments_lexer": "java",
   "version": "17.0.9+9-Ubuntu-120.04"
  }
 },
 "nbformat": 4,
 "nbformat_minor": 2
}
