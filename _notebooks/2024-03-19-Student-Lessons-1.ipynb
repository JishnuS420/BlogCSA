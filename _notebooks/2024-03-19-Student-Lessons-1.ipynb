{
 "cells": [
  {
   "cell_type": "markdown",
   "metadata": {},
   "source": [
    "---\n",
    "toc: true\n",
    "comments: true\n",
    "layout: post\n",
    "title: Workshop 1\n",
    "description: Hacks\n",
    "courses: { csa: {week: 26} }\n",
    "type: hacks\n",
    "---"
   ]
  },
  {
   "cell_type": "markdown",
   "metadata": {},
   "source": [
    "## Question 1: Primitive Types vs Reference Types (Unit 1)\n",
    "Situation: You are developing a banking application where you need to represent customer information. You have decided to use both primitive types and reference types for this purpose.\n",
    "\n",
    "**(a) Define primitive types and reference types in Java. Provide examples of each.**\n",
    "\n",
    "Primitive types are a data types that come with the original Java language itself and don't really refer to any memory location and are stored directly.\n",
    "\n",
    "Examples:\n",
    "- `int`\n",
    "- `double`\n",
    "- `boolean`\n",
    "- `char`\n",
    "\n",
    "Reference types use objects in memory rather than storing the values themselves\n",
    "\n",
    "Examples:\n",
    "\n",
    "- Classes\n",
    "- Arrays\n",
    "- Interfaces\n",
    "- Enumerations"
   ]
  },
  {
   "cell_type": "markdown",
   "metadata": {},
   "source": [
    "**(b) Explain the differences between primitive types and reference types in terms of memory allocation and usage in Java programs.**\n",
    "\n",
    "The differences are mainly in the fact that primitives store the data in the Stack and the references store it in the Heap (where the objects are created) and are referred to by the stored variables. Primitives also hold the actual values but references are stored in variables"
   ]
  },
  {
   "cell_type": "markdown",
   "metadata": {},
   "source": [
    "**(c) Code:**\n",
    "\n",
    "**You have a method `calculateInterest` that takes a primitive `double` type representing the principal amount and a reference type `Customer` representing the customer information. Write the method signature and the method implementation. Include comments to explain your code.**"
   ]
  },
  {
   "cell_type": "code",
   "execution_count": 12,
   "metadata": {
    "vscode": {
     "languageId": "java"
    }
   },
   "outputs": [
    {
     "name": "stdout",
     "output_type": "stream",
     "text": [
      "Principal: 2000.0\n",
      "Interest: 140.0\n"
     ]
    }
   ],
   "source": [
    "class Customer {\n",
    "    private double interestRate;\n",
    "\n",
    "    // constructor to set the interest rate for the customer\n",
    "    public Customer(double interestRate) {\n",
    "        this.interestRate = interestRate;\n",
    "    }\n",
    "\n",
    "    // getters for interest rate getting from customer object\n",
    "    public double getInterestRate() {\n",
    "        return interestRate;\n",
    "    }\n",
    "}\n",
    "\n",
    "public class BankApp {\n",
    "\n",
    "    public double calculateInterest(double principal, Customer customer) {\n",
    "        double interestRate = customer.getInterestRate(); // gets the interest rate out of the customer object\n",
    "        double interest = principal * interestRate; // storing via primitive\n",
    "        return interest;\n",
    "    }\n",
    "\n",
    "    public static void main(String[] args) {\n",
    "        Customer customer = new Customer(0.07); // tester data \n",
    "\n",
    "        double principal = 2000.0;\n",
    "        System.out.println(\"Principal: \" + principal);\n",
    "        Bank bank = new Bank();\n",
    "        double interest = bank.calculateInterest(principal, customer);\n",
    "\n",
    "        System.out.println(\"Interest: \" + interest);\n",
    "    }\n",
    "}\n",
    "\n",
    "BankApp.main(null)\n"
   ]
  },
  {
   "cell_type": "markdown",
   "metadata": {},
   "source": [
    "## Question 3: Array (Unit 6)\n",
    "Situation: You are developing a student management system where you need to store and analyze the grades of students in a class.\n",
    "\n",
    "**(a) Define an array in Java. Explain its significance and usefulness in programming.**\n",
    "\n",
    "An array is a data structure that can be used to store elements that are the same type and serve as a convenient and easy way to store and access multiple values"
   ]
  },
  {
   "cell_type": "markdown",
   "metadata": {},
   "source": [
    "**(b) Code:**\n",
    "\n",
    "**You need to implement a method `calculateAverageGrade` that takes an array `grades` of integers representing student grades and returns the average of all the elements in the array. Write the method signature and the method implementation. Include comments to explain your code.**"
   ]
  },
  {
   "cell_type": "code",
   "execution_count": 14,
   "metadata": {
    "vscode": {
     "languageId": "java"
    }
   },
   "outputs": [
    {
     "name": "stdout",
     "output_type": "stream",
     "text": [
      "Average Grade: 85.0\n"
     ]
    }
   ],
   "source": [
    "public class GradeAnalyzer {\n",
    "    \n",
    "    public double calculateAverageGrade(int[] grades) { // calculate average grade method\n",
    "        int sum = 0; // setting inital sum to 0\n",
    "        \n",
    "        for (int grade : grades) { // for grade in the array grades, add the sum with the grade and go to the next\n",
    "            sum += grade;\n",
    "        }\n",
    "        \n",
    "        double average = (double) sum / grades.length; // divide by array length to get average\n",
    "        return average;\n",
    "    }\n",
    "    \n",
    "    public static void main(String[] args) { // testing data\n",
    "        int[] studentGrades = {85, 90, 75, 95, 80};\n",
    "\n",
    "        GradeAnalyzer analyzer = new GradeAnalyzer(); // calling method \n",
    "        double averageGrade = analyzer.calculateAverageGrade(studentGrades);\n",
    "        \n",
    "        System.out.println(\"Average Grade: \" + averageGrade);\n",
    "    }\n",
    "}\n",
    "\n",
    "GradeAnalyzer.main(null)"
   ]
  },
  {
   "cell_type": "markdown",
   "metadata": {},
   "source": [
    "## Question 4: Math Class (Unit 2)\n",
    "Situation: You are developing a scientific calculator application where users need to perform various mathematical operations.\n",
    "\n",
    "**(a) Discuss the purpose and utility of the Math class in Java programming. Provide examples of at least three methods provided by the Math class and explain their usage.**\n",
    "\n",
    "The math function provides different methods to perform math with and can help in calculating different thins, actions in games and other applications that require calculations "
   ]
  },
  {
   "cell_type": "markdown",
   "metadata": {},
   "source": [
    "**(b) Code:**\n",
    "\n",
    "**You need to implement a method `calculateSquareRoot` that takes a `double` number as input and returns its square root using the Math class. Write the method signature and the method implementation. Include comments to explain your code.**\n",
    "\n"
   ]
  },
  {
   "cell_type": "code",
   "execution_count": 17,
   "metadata": {
    "vscode": {
     "languageId": "java"
    }
   },
   "outputs": [
    {
     "name": "stdout",
     "output_type": "stream",
     "text": [
      "Square root of 400.0 is: 20.0\n"
     ]
    }
   ],
   "source": [
    "public class ScientificCalculator {\n",
    "    \n",
    "    public double calculateSquareRoot(double number) { // calculate square root method \n",
    "\n",
    "        double squareRoot = Math.sqrt(number); // math.sqrt used to get the squareroot of a number and double because square roots some times arent whole #\n",
    "        return squareRoot;\n",
    "    }\n",
    "    \n",
    "    public static void main(String[] args) { // testing data\n",
    "\n",
    "        double number = 400;\n",
    "\n",
    "        ScientificCalculator calculator = new ScientificCalculator(); // calling method for the calculator\n",
    "        double squareRoot = calculator.calculateSquareRoot(number);\n",
    "        \n",
    "        System.out.println(\"Square root of \" + number + \" is: \" + squareRoot);\n",
    "    }\n",
    "}\n",
    "\n",
    "ScientificCalculator.main(null)\n"
   ]
  }
 ],
 "metadata": {
  "kernelspec": {
   "display_name": "Java",
   "language": "java",
   "name": "java"
  },
  "language_info": {
   "codemirror_mode": "java",
   "file_extension": ".jshell",
   "mimetype": "text/x-java-source",
   "name": "Java",
   "pygments_lexer": "java",
   "version": "17.0.9+9-Ubuntu-120.04"
  }
 },
 "nbformat": 4,
 "nbformat_minor": 2
}
